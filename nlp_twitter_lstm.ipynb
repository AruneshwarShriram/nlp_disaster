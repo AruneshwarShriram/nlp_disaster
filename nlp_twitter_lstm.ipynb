{
 "cells": [
  {
   "cell_type": "markdown",
   "id": "74571660",
   "metadata": {
    "papermill": {
     "duration": 0.025699,
     "end_time": "2022-01-06T01:46:57.092081",
     "exception": false,
     "start_time": "2022-01-06T01:46:57.066382",
     "status": "completed"
    },
    "tags": []
   },
   "source": [
    "# Twitter Sentiment Analysis"
   ]
  },
  {
   "cell_type": "markdown",
   "id": "c8308f57",
   "metadata": {
    "papermill": {
     "duration": 0.024371,
     "end_time": "2022-01-06T01:46:57.141215",
     "exception": false,
     "start_time": "2022-01-06T01:46:57.116844",
     "status": "completed"
    },
    "tags": []
   },
   "source": [
    "## 1. Import necessary libraries:"
   ]
  },
  {
   "cell_type": "markdown",
   "id": "aedcad8b",
   "metadata": {
    "papermill": {
     "duration": 0.023834,
     "end_time": "2022-01-06T01:46:57.189307",
     "exception": false,
     "start_time": "2022-01-06T01:46:57.165473",
     "status": "completed"
    },
    "tags": []
   },
   "source": []
  },
  {
   "cell_type": "code",
   "execution_count": 1,
   "id": "45e89744",
   "metadata": {
    "execution": {
     "iopub.execute_input": "2022-01-06T01:46:57.242385Z",
     "iopub.status.busy": "2022-01-06T01:46:57.241174Z",
     "iopub.status.idle": "2022-01-06T01:47:03.485833Z",
     "shell.execute_reply": "2022-01-06T01:47:03.484973Z",
     "shell.execute_reply.started": "2022-01-06T01:07:06.378969Z"
    },
    "papermill": {
     "duration": 6.272378,
     "end_time": "2022-01-06T01:47:03.486013",
     "exception": false,
     "start_time": "2022-01-06T01:46:57.213635",
     "status": "completed"
    },
    "tags": []
   },
   "outputs": [],
   "source": [
    "import os\n",
    "import numpy as np\n",
    "import pandas as pd\n",
    "import tensorflow as tf\n",
    "import tensorflow.keras as keras \n",
    "from tensorflow.keras.preprocessing.text import Tokenizer\n",
    "from tensorflow.keras.models import Sequential\n",
    "from tensorflow.keras.layers import Embedding, LSTM, Dense, Dropout"
   ]
  },
  {
   "cell_type": "code",
   "execution_count": 2,
   "id": "91f383f2",
   "metadata": {
    "execution": {
     "iopub.execute_input": "2022-01-06T01:47:03.538763Z",
     "iopub.status.busy": "2022-01-06T01:47:03.537720Z",
     "iopub.status.idle": "2022-01-06T01:47:03.541297Z",
     "shell.execute_reply": "2022-01-06T01:47:03.541943Z",
     "shell.execute_reply.started": "2022-01-06T01:13:40.906503Z"
    },
    "papermill": {
     "duration": 0.031481,
     "end_time": "2022-01-06T01:47:03.542118",
     "exception": false,
     "start_time": "2022-01-06T01:47:03.510637",
     "status": "completed"
    },
    "tags": []
   },
   "outputs": [],
   "source": [
    "# use this to stretch the dataframe view\n",
    "pd.set_option('display.max_colwidth', None)"
   ]
  },
  {
   "cell_type": "markdown",
   "id": "75a5e2d1",
   "metadata": {
    "papermill": {
     "duration": 0.023818,
     "end_time": "2022-01-06T01:47:03.590211",
     "exception": false,
     "start_time": "2022-01-06T01:47:03.566393",
     "status": "completed"
    },
    "tags": []
   },
   "source": [
    "## 2. Prepare the data:\n",
    "\n",
    "The keyword and location columns are not needed, so we remove them"
   ]
  },
  {
   "cell_type": "code",
   "execution_count": 3,
   "id": "c6b2f539",
   "metadata": {
    "execution": {
     "iopub.execute_input": "2022-01-06T01:47:03.642665Z",
     "iopub.status.busy": "2022-01-06T01:47:03.641652Z",
     "iopub.status.idle": "2022-01-06T01:47:03.645441Z",
     "shell.execute_reply": "2022-01-06T01:47:03.645973Z",
     "shell.execute_reply.started": "2022-01-06T01:10:26.274009Z"
    },
    "papermill": {
     "duration": 0.031675,
     "end_time": "2022-01-06T01:47:03.646149",
     "exception": false,
     "start_time": "2022-01-06T01:47:03.614474",
     "status": "completed"
    },
    "tags": []
   },
   "outputs": [],
   "source": [
    "root_folder = '/kaggle/input/nlp-getting-started/'"
   ]
  },
  {
   "cell_type": "code",
   "execution_count": 4,
   "id": "bf5428f7",
   "metadata": {
    "execution": {
     "iopub.execute_input": "2022-01-06T01:47:03.700581Z",
     "iopub.status.busy": "2022-01-06T01:47:03.699919Z",
     "iopub.status.idle": "2022-01-06T01:47:03.780838Z",
     "shell.execute_reply": "2022-01-06T01:47:03.781340Z",
     "shell.execute_reply.started": "2022-01-06T01:10:39.726799Z"
    },
    "papermill": {
     "duration": 0.110871,
     "end_time": "2022-01-06T01:47:03.781542",
     "exception": false,
     "start_time": "2022-01-06T01:47:03.670671",
     "status": "completed"
    },
    "tags": []
   },
   "outputs": [],
   "source": [
    "df_train = pd.read_csv(root_folder+'train.csv', sep=',')\n",
    "df_test = pd.read_csv(root_folder+'test.csv', sep=',')"
   ]
  },
  {
   "cell_type": "code",
   "execution_count": 5,
   "id": "efbfd63a",
   "metadata": {
    "execution": {
     "iopub.execute_input": "2022-01-06T01:47:03.838989Z",
     "iopub.status.busy": "2022-01-06T01:47:03.838267Z",
     "iopub.status.idle": "2022-01-06T01:47:03.853598Z",
     "shell.execute_reply": "2022-01-06T01:47:03.854104Z",
     "shell.execute_reply.started": "2022-01-06T01:13:48.053487Z"
    },
    "papermill": {
     "duration": 0.048361,
     "end_time": "2022-01-06T01:47:03.854274",
     "exception": false,
     "start_time": "2022-01-06T01:47:03.805913",
     "status": "completed"
    },
    "tags": []
   },
   "outputs": [
    {
     "data": {
      "text/html": [
       "<div>\n",
       "<style scoped>\n",
       "    .dataframe tbody tr th:only-of-type {\n",
       "        vertical-align: middle;\n",
       "    }\n",
       "\n",
       "    .dataframe tbody tr th {\n",
       "        vertical-align: top;\n",
       "    }\n",
       "\n",
       "    .dataframe thead th {\n",
       "        text-align: right;\n",
       "    }\n",
       "</style>\n",
       "<table border=\"1\" class=\"dataframe\">\n",
       "  <thead>\n",
       "    <tr style=\"text-align: right;\">\n",
       "      <th></th>\n",
       "      <th>id</th>\n",
       "      <th>keyword</th>\n",
       "      <th>location</th>\n",
       "      <th>text</th>\n",
       "      <th>target</th>\n",
       "    </tr>\n",
       "  </thead>\n",
       "  <tbody>\n",
       "    <tr>\n",
       "      <th>0</th>\n",
       "      <td>1</td>\n",
       "      <td>NaN</td>\n",
       "      <td>NaN</td>\n",
       "      <td>Our Deeds are the Reason of this #earthquake May ALLAH Forgive us all</td>\n",
       "      <td>1</td>\n",
       "    </tr>\n",
       "    <tr>\n",
       "      <th>1</th>\n",
       "      <td>4</td>\n",
       "      <td>NaN</td>\n",
       "      <td>NaN</td>\n",
       "      <td>Forest fire near La Ronge Sask. Canada</td>\n",
       "      <td>1</td>\n",
       "    </tr>\n",
       "    <tr>\n",
       "      <th>2</th>\n",
       "      <td>5</td>\n",
       "      <td>NaN</td>\n",
       "      <td>NaN</td>\n",
       "      <td>All residents asked to 'shelter in place' are being notified by officers. No other evacuation or shelter in place orders are expected</td>\n",
       "      <td>1</td>\n",
       "    </tr>\n",
       "    <tr>\n",
       "      <th>3</th>\n",
       "      <td>6</td>\n",
       "      <td>NaN</td>\n",
       "      <td>NaN</td>\n",
       "      <td>13,000 people receive #wildfires evacuation orders in California</td>\n",
       "      <td>1</td>\n",
       "    </tr>\n",
       "    <tr>\n",
       "      <th>4</th>\n",
       "      <td>7</td>\n",
       "      <td>NaN</td>\n",
       "      <td>NaN</td>\n",
       "      <td>Just got sent this photo from Ruby #Alaska as smoke from #wildfires pours into a school</td>\n",
       "      <td>1</td>\n",
       "    </tr>\n",
       "  </tbody>\n",
       "</table>\n",
       "</div>"
      ],
      "text/plain": [
       "   id keyword location  \\\n",
       "0   1     NaN      NaN   \n",
       "1   4     NaN      NaN   \n",
       "2   5     NaN      NaN   \n",
       "3   6     NaN      NaN   \n",
       "4   7     NaN      NaN   \n",
       "\n",
       "                                                                                                                                    text  \\\n",
       "0                                                                  Our Deeds are the Reason of this #earthquake May ALLAH Forgive us all   \n",
       "1                                                                                                 Forest fire near La Ronge Sask. Canada   \n",
       "2  All residents asked to 'shelter in place' are being notified by officers. No other evacuation or shelter in place orders are expected   \n",
       "3                                                                      13,000 people receive #wildfires evacuation orders in California    \n",
       "4                                               Just got sent this photo from Ruby #Alaska as smoke from #wildfires pours into a school    \n",
       "\n",
       "   target  \n",
       "0       1  \n",
       "1       1  \n",
       "2       1  \n",
       "3       1  \n",
       "4       1  "
      ]
     },
     "execution_count": 5,
     "metadata": {},
     "output_type": "execute_result"
    }
   ],
   "source": [
    "df_train.head()"
   ]
  },
  {
   "cell_type": "code",
   "execution_count": 6,
   "id": "7346fc69",
   "metadata": {
    "execution": {
     "iopub.execute_input": "2022-01-06T01:47:03.907564Z",
     "iopub.status.busy": "2022-01-06T01:47:03.906917Z",
     "iopub.status.idle": "2022-01-06T01:47:03.921874Z",
     "shell.execute_reply": "2022-01-06T01:47:03.921173Z",
     "shell.execute_reply.started": "2022-01-06T01:13:11.732226Z"
    },
    "papermill": {
     "duration": 0.042393,
     "end_time": "2022-01-06T01:47:03.922025",
     "exception": false,
     "start_time": "2022-01-06T01:47:03.879632",
     "status": "completed"
    },
    "tags": []
   },
   "outputs": [],
   "source": [
    "df_train = df_train.drop(['keyword','location'], axis=1)\n",
    "df_test = df_test.drop(['keyword','location'], axis=1)"
   ]
  },
  {
   "cell_type": "code",
   "execution_count": 7,
   "id": "99f486ae",
   "metadata": {
    "execution": {
     "iopub.execute_input": "2022-01-06T01:47:03.982947Z",
     "iopub.status.busy": "2022-01-06T01:47:03.982034Z",
     "iopub.status.idle": "2022-01-06T01:47:03.985518Z",
     "shell.execute_reply": "2022-01-06T01:47:03.986056Z",
     "shell.execute_reply.started": "2022-01-06T01:13:51.038861Z"
    },
    "papermill": {
     "duration": 0.038316,
     "end_time": "2022-01-06T01:47:03.986241",
     "exception": false,
     "start_time": "2022-01-06T01:47:03.947925",
     "status": "completed"
    },
    "tags": []
   },
   "outputs": [
    {
     "data": {
      "text/html": [
       "<div>\n",
       "<style scoped>\n",
       "    .dataframe tbody tr th:only-of-type {\n",
       "        vertical-align: middle;\n",
       "    }\n",
       "\n",
       "    .dataframe tbody tr th {\n",
       "        vertical-align: top;\n",
       "    }\n",
       "\n",
       "    .dataframe thead th {\n",
       "        text-align: right;\n",
       "    }\n",
       "</style>\n",
       "<table border=\"1\" class=\"dataframe\">\n",
       "  <thead>\n",
       "    <tr style=\"text-align: right;\">\n",
       "      <th></th>\n",
       "      <th>id</th>\n",
       "      <th>text</th>\n",
       "      <th>target</th>\n",
       "    </tr>\n",
       "  </thead>\n",
       "  <tbody>\n",
       "    <tr>\n",
       "      <th>0</th>\n",
       "      <td>1</td>\n",
       "      <td>Our Deeds are the Reason of this #earthquake May ALLAH Forgive us all</td>\n",
       "      <td>1</td>\n",
       "    </tr>\n",
       "    <tr>\n",
       "      <th>1</th>\n",
       "      <td>4</td>\n",
       "      <td>Forest fire near La Ronge Sask. Canada</td>\n",
       "      <td>1</td>\n",
       "    </tr>\n",
       "    <tr>\n",
       "      <th>2</th>\n",
       "      <td>5</td>\n",
       "      <td>All residents asked to 'shelter in place' are being notified by officers. No other evacuation or shelter in place orders are expected</td>\n",
       "      <td>1</td>\n",
       "    </tr>\n",
       "    <tr>\n",
       "      <th>3</th>\n",
       "      <td>6</td>\n",
       "      <td>13,000 people receive #wildfires evacuation orders in California</td>\n",
       "      <td>1</td>\n",
       "    </tr>\n",
       "    <tr>\n",
       "      <th>4</th>\n",
       "      <td>7</td>\n",
       "      <td>Just got sent this photo from Ruby #Alaska as smoke from #wildfires pours into a school</td>\n",
       "      <td>1</td>\n",
       "    </tr>\n",
       "  </tbody>\n",
       "</table>\n",
       "</div>"
      ],
      "text/plain": [
       "   id  \\\n",
       "0   1   \n",
       "1   4   \n",
       "2   5   \n",
       "3   6   \n",
       "4   7   \n",
       "\n",
       "                                                                                                                                    text  \\\n",
       "0                                                                  Our Deeds are the Reason of this #earthquake May ALLAH Forgive us all   \n",
       "1                                                                                                 Forest fire near La Ronge Sask. Canada   \n",
       "2  All residents asked to 'shelter in place' are being notified by officers. No other evacuation or shelter in place orders are expected   \n",
       "3                                                                      13,000 people receive #wildfires evacuation orders in California    \n",
       "4                                               Just got sent this photo from Ruby #Alaska as smoke from #wildfires pours into a school    \n",
       "\n",
       "   target  \n",
       "0       1  \n",
       "1       1  \n",
       "2       1  \n",
       "3       1  \n",
       "4       1  "
      ]
     },
     "execution_count": 7,
     "metadata": {},
     "output_type": "execute_result"
    }
   ],
   "source": [
    "df_train.head()"
   ]
  },
  {
   "cell_type": "markdown",
   "id": "68b35734",
   "metadata": {
    "papermill": {
     "duration": 0.026268,
     "end_time": "2022-01-06T01:47:04.037931",
     "exception": false,
     "start_time": "2022-01-06T01:47:04.011663",
     "status": "completed"
    },
    "tags": []
   },
   "source": [
    "## 3. Setting the dataset variables:"
   ]
  },
  {
   "cell_type": "code",
   "execution_count": 8,
   "id": "c38f8971",
   "metadata": {
    "execution": {
     "iopub.execute_input": "2022-01-06T01:47:04.097795Z",
     "iopub.status.busy": "2022-01-06T01:47:04.097108Z",
     "iopub.status.idle": "2022-01-06T01:47:04.100215Z",
     "shell.execute_reply": "2022-01-06T01:47:04.099580Z",
     "shell.execute_reply.started": "2022-01-06T01:15:41.713435Z"
    },
    "papermill": {
     "duration": 0.036572,
     "end_time": "2022-01-06T01:47:04.100355",
     "exception": false,
     "start_time": "2022-01-06T01:47:04.063783",
     "status": "completed"
    },
    "tags": []
   },
   "outputs": [],
   "source": [
    "x = df_train.sort_values(by= ['id'], ascending=True)\n",
    "x_test = df_test.sort_values(by= ['id'], ascending=True)"
   ]
  },
  {
   "cell_type": "code",
   "execution_count": 9,
   "id": "78bd427f",
   "metadata": {
    "execution": {
     "iopub.execute_input": "2022-01-06T01:47:04.157216Z",
     "iopub.status.busy": "2022-01-06T01:47:04.156489Z",
     "iopub.status.idle": "2022-01-06T01:47:04.160323Z",
     "shell.execute_reply": "2022-01-06T01:47:04.160838Z",
     "shell.execute_reply.started": "2022-01-06T01:16:59.820052Z"
    },
    "papermill": {
     "duration": 0.035396,
     "end_time": "2022-01-06T01:47:04.161025",
     "exception": false,
     "start_time": "2022-01-06T01:47:04.125629",
     "status": "completed"
    },
    "tags": []
   },
   "outputs": [],
   "source": [
    "#Retrieve the text from the dataframe as a numpy array\n",
    "twitts = x.loc[:,x.columns=='text'].values.flatten()\n",
    "twitts_test = x_test.loc[:,x_test.columns=='text'].values.flatten()"
   ]
  },
  {
   "cell_type": "code",
   "execution_count": 10,
   "id": "66ab8bb9",
   "metadata": {
    "execution": {
     "iopub.execute_input": "2022-01-06T01:47:04.217594Z",
     "iopub.status.busy": "2022-01-06T01:47:04.216917Z",
     "iopub.status.idle": "2022-01-06T01:47:04.219561Z",
     "shell.execute_reply": "2022-01-06T01:47:04.220073Z",
     "shell.execute_reply.started": "2022-01-06T01:17:27.654205Z"
    },
    "papermill": {
     "duration": 0.033838,
     "end_time": "2022-01-06T01:47:04.220243",
     "exception": false,
     "start_time": "2022-01-06T01:47:04.186405",
     "status": "completed"
    },
    "tags": []
   },
   "outputs": [
    {
     "name": "stdout",
     "output_type": "stream",
     "text": [
      "['Our Deeds are the Reason of this #earthquake May ALLAH Forgive us all'\n",
      " 'Forest fire near La Ronge Sask. Canada'\n",
      " \"All residents asked to 'shelter in place' are being notified by officers. No other evacuation or shelter in place orders are expected\"\n",
      " '13,000 people receive #wildfires evacuation orders in California '\n",
      " 'Just got sent this photo from Ruby #Alaska as smoke from #wildfires pours into a school '\n",
      " '#RockyFire Update => California Hwy. 20 closed in both directions due to Lake County fire - #CAfire #wildfires'\n",
      " '#flood #disaster Heavy rain causes flash flooding of streets in Manitou, Colorado Springs areas'\n",
      " \"I'm on top of the hill and I can see a fire in the woods...\"\n",
      " \"There's an emergency evacuation happening now in the building across the street\"\n",
      " \"I'm afraid that the tornado is coming to our area...\"]\n"
     ]
    }
   ],
   "source": [
    "# see a sample of the collected twitts:\n",
    "print(twitts[:10])"
   ]
  },
  {
   "cell_type": "markdown",
   "id": "efe44ea0",
   "metadata": {
    "papermill": {
     "duration": 0.0253,
     "end_time": "2022-01-06T01:47:04.271305",
     "exception": false,
     "start_time": "2022-01-06T01:47:04.246005",
     "status": "completed"
    },
    "tags": []
   },
   "source": [
    "## 4. Applying NLP:\n",
    "We need to use the usual tokenization techniques in order to translate the text data to numerical vectors that we can feed to a neural network."
   ]
  },
  {
   "cell_type": "code",
   "execution_count": 11,
   "id": "9c9d50ce",
   "metadata": {
    "execution": {
     "iopub.execute_input": "2022-01-06T01:47:04.328745Z",
     "iopub.status.busy": "2022-01-06T01:47:04.327743Z",
     "iopub.status.idle": "2022-01-06T01:47:04.333190Z",
     "shell.execute_reply": "2022-01-06T01:47:04.332309Z",
     "shell.execute_reply.started": "2022-01-06T01:21:33.238493Z"
    },
    "papermill": {
     "duration": 0.036169,
     "end_time": "2022-01-06T01:47:04.333397",
     "exception": false,
     "start_time": "2022-01-06T01:47:04.297228",
     "status": "completed"
    },
    "tags": []
   },
   "outputs": [],
   "source": [
    "t = Tokenizer()\n",
    "def preprocess(text):\n",
    "    seqs = t.fit_on_texts(text)\n",
    "    return seqs"
   ]
  },
  {
   "cell_type": "code",
   "execution_count": 12,
   "id": "8497141c",
   "metadata": {
    "execution": {
     "iopub.execute_input": "2022-01-06T01:47:04.391215Z",
     "iopub.status.busy": "2022-01-06T01:47:04.390229Z",
     "iopub.status.idle": "2022-01-06T01:47:04.617373Z",
     "shell.execute_reply": "2022-01-06T01:47:04.617899Z",
     "shell.execute_reply.started": "2022-01-06T01:21:42.039823Z"
    },
    "papermill": {
     "duration": 0.25642,
     "end_time": "2022-01-06T01:47:04.618093",
     "exception": false,
     "start_time": "2022-01-06T01:47:04.361673",
     "status": "completed"
    },
    "tags": []
   },
   "outputs": [],
   "source": [
    "#fit tokenizer on training set:\n",
    "tokens=preprocess(twitts)"
   ]
  },
  {
   "cell_type": "code",
   "execution_count": 13,
   "id": "14dc9b61",
   "metadata": {
    "execution": {
     "iopub.execute_input": "2022-01-06T01:47:04.673309Z",
     "iopub.status.busy": "2022-01-06T01:47:04.672647Z",
     "iopub.status.idle": "2022-01-06T01:47:04.927706Z",
     "shell.execute_reply": "2022-01-06T01:47:04.928223Z",
     "shell.execute_reply.started": "2022-01-06T01:21:54.478633Z"
    },
    "papermill": {
     "duration": 0.284191,
     "end_time": "2022-01-06T01:47:04.928422",
     "exception": false,
     "start_time": "2022-01-06T01:47:04.644231",
     "status": "completed"
    },
    "tags": []
   },
   "outputs": [],
   "source": [
    "#text to sequences\n",
    "X_train = t.texts_to_sequences(twitts)\n",
    "X_test = t.texts_to_sequences(twitts_test)"
   ]
  },
  {
   "cell_type": "code",
   "execution_count": 14,
   "id": "fb72f956",
   "metadata": {
    "execution": {
     "iopub.execute_input": "2022-01-06T01:47:04.983557Z",
     "iopub.status.busy": "2022-01-06T01:47:04.982799Z",
     "iopub.status.idle": "2022-01-06T01:47:05.114013Z",
     "shell.execute_reply": "2022-01-06T01:47:05.113312Z",
     "shell.execute_reply.started": "2022-01-06T01:22:55.118828Z"
    },
    "papermill": {
     "duration": 0.159954,
     "end_time": "2022-01-06T01:47:05.114184",
     "exception": false,
     "start_time": "2022-01-06T01:47:04.954230",
     "status": "completed"
    },
    "tags": []
   },
   "outputs": [],
   "source": [
    "#pad sequences\n",
    "X_train = np.array(X_train, dtype=object)\n",
    "X_test = np.array(X_test, dtype=object)\n",
    "X_train = keras.preprocessing.sequence.pad_sequences(X_train)\n",
    "X_test = keras.preprocessing.sequence.pad_sequences(X_test)"
   ]
  },
  {
   "cell_type": "code",
   "execution_count": 15,
   "id": "95914db7",
   "metadata": {
    "execution": {
     "iopub.execute_input": "2022-01-06T01:47:05.175149Z",
     "iopub.status.busy": "2022-01-06T01:47:05.174389Z",
     "iopub.status.idle": "2022-01-06T01:47:05.177039Z",
     "shell.execute_reply": "2022-01-06T01:47:05.177564Z",
     "shell.execute_reply.started": "2022-01-06T01:23:42.358966Z"
    },
    "papermill": {
     "duration": 0.035682,
     "end_time": "2022-01-06T01:47:05.177749",
     "exception": false,
     "start_time": "2022-01-06T01:47:05.142067",
     "status": "completed"
    },
    "tags": []
   },
   "outputs": [
    {
     "name": "stdout",
     "output_type": "stream",
     "text": [
      "[   0    0    0    0    0    0    0    0    0    0    0    0    0    0\n",
      "    0    0    0    0    0    0  119 4633   24    4  868    8   21  263\n",
      "  138 1619 4634   89   40]\n"
     ]
    }
   ],
   "source": [
    "# this is a single encoded twitt:\n",
    "print(X_train[0])"
   ]
  },
  {
   "cell_type": "code",
   "execution_count": 16,
   "id": "bcf1831d",
   "metadata": {
    "execution": {
     "iopub.execute_input": "2022-01-06T01:47:05.235855Z",
     "iopub.status.busy": "2022-01-06T01:47:05.235035Z",
     "iopub.status.idle": "2022-01-06T01:47:05.238803Z",
     "shell.execute_reply": "2022-01-06T01:47:05.238063Z",
     "shell.execute_reply.started": "2022-01-06T01:23:55.066392Z"
    },
    "papermill": {
     "duration": 0.03524,
     "end_time": "2022-01-06T01:47:05.238965",
     "exception": false,
     "start_time": "2022-01-06T01:47:05.203725",
     "status": "completed"
    },
    "tags": []
   },
   "outputs": [
    {
     "name": "stdout",
     "output_type": "stream",
     "text": [
      "Size of vocabulary: 22700\n"
     ]
    }
   ],
   "source": [
    "#size of the vocabulary\n",
    "vocab_size = len(t.word_index)\n",
    "print('Size of vocabulary:', vocab_size)"
   ]
  },
  {
   "cell_type": "code",
   "execution_count": 17,
   "id": "e2d86236",
   "metadata": {
    "execution": {
     "iopub.execute_input": "2022-01-06T01:47:05.308905Z",
     "iopub.status.busy": "2022-01-06T01:47:05.308188Z",
     "iopub.status.idle": "2022-01-06T01:47:05.310499Z",
     "shell.execute_reply": "2022-01-06T01:47:05.311085Z",
     "shell.execute_reply.started": "2022-01-06T01:24:05.388230Z"
    },
    "papermill": {
     "duration": 0.039354,
     "end_time": "2022-01-06T01:47:05.311253",
     "exception": false,
     "start_time": "2022-01-06T01:47:05.271899",
     "status": "completed"
    },
    "tags": []
   },
   "outputs": [],
   "source": [
    "# target training variable:\n",
    "y_train = df_train.target.values"
   ]
  },
  {
   "cell_type": "code",
   "execution_count": 18,
   "id": "b55a4224",
   "metadata": {
    "execution": {
     "iopub.execute_input": "2022-01-06T01:47:05.367737Z",
     "iopub.status.busy": "2022-01-06T01:47:05.367008Z",
     "iopub.status.idle": "2022-01-06T01:47:05.371479Z",
     "shell.execute_reply": "2022-01-06T01:47:05.371997Z",
     "shell.execute_reply.started": "2022-01-06T01:25:37.082465Z"
    },
    "papermill": {
     "duration": 0.034333,
     "end_time": "2022-01-06T01:47:05.372172",
     "exception": false,
     "start_time": "2022-01-06T01:47:05.337839",
     "status": "completed"
    },
    "tags": []
   },
   "outputs": [
    {
     "name": "stdout",
     "output_type": "stream",
     "text": [
      "1\n"
     ]
    }
   ],
   "source": [
    "# the y variable represents the labels (1 for true disaster, 0 otherwise):\n",
    "print(y_train[0])"
   ]
  },
  {
   "cell_type": "markdown",
   "id": "86d8db95",
   "metadata": {
    "papermill": {
     "duration": 0.026507,
     "end_time": "2022-01-06T01:47:05.426359",
     "exception": false,
     "start_time": "2022-01-06T01:47:05.399852",
     "status": "completed"
    },
    "tags": []
   },
   "source": [
    "## 5. Training the model RNN:"
   ]
  },
  {
   "cell_type": "code",
   "execution_count": 19,
   "id": "c4803236",
   "metadata": {
    "execution": {
     "iopub.execute_input": "2022-01-06T01:47:05.483093Z",
     "iopub.status.busy": "2022-01-06T01:47:05.482415Z",
     "iopub.status.idle": "2022-01-06T01:47:05.937297Z",
     "shell.execute_reply": "2022-01-06T01:47:05.937934Z",
     "shell.execute_reply.started": "2022-01-06T01:26:37.475609Z"
    },
    "papermill": {
     "duration": 0.484771,
     "end_time": "2022-01-06T01:47:05.938123",
     "exception": false,
     "start_time": "2022-01-06T01:47:05.453352",
     "status": "completed"
    },
    "tags": []
   },
   "outputs": [
    {
     "name": "stderr",
     "output_type": "stream",
     "text": [
      "\n",
      "User settings:\n",
      "\n",
      "   KMP_AFFINITY=granularity=fine,verbose,compact,1,0\n",
      "   KMP_BLOCKTIME=0\n",
      "   KMP_SETTINGS=1\n",
      "   KMP_WARNINGS=0\n",
      "\n",
      "Effective settings:\n",
      "\n",
      "   KMP_ABORT_DELAY=0\n",
      "   KMP_ADAPTIVE_LOCK_PROPS='1,1024'\n",
      "   KMP_ALIGN_ALLOC=64\n",
      "   KMP_ALL_THREADPRIVATE=128\n",
      "   KMP_ATOMIC_MODE=2\n",
      "   KMP_BLOCKTIME=0\n",
      "   KMP_CPUINFO_FILE: value is not defined\n",
      "   KMP_DETERMINISTIC_REDUCTION=false\n",
      "   KMP_DEVICE_THREAD_LIMIT=2147483647\n",
      "   KMP_DISP_NUM_BUFFERS=7\n",
      "   KMP_DUPLICATE_LIB_OK=false\n",
      "   KMP_ENABLE_TASK_THROTTLING=true\n",
      "   KMP_FORCE_REDUCTION: value is not defined\n",
      "   KMP_FOREIGN_THREADS_THREADPRIVATE=true\n",
      "   KMP_FORKJOIN_BARRIER='2,2'\n",
      "   KMP_FORKJOIN_BARRIER_PATTERN='hyper,hyper'\n",
      "   KMP_GTID_MODE=3\n",
      "   KMP_HANDLE_SIGNALS=false\n",
      "   KMP_HOT_TEAMS_MAX_LEVEL=1\n",
      "   KMP_HOT_TEAMS_MODE=0\n",
      "   KMP_INIT_AT_FORK=true\n",
      "   KMP_LIBRARY=throughput\n",
      "   KMP_LOCK_KIND=queuing\n",
      "   KMP_MALLOC_POOL_INCR=1M\n",
      "   KMP_NUM_LOCKS_IN_BLOCK=1\n",
      "   KMP_PLAIN_BARRIER='2,2'\n",
      "   KMP_PLAIN_BARRIER_PATTERN='hyper,hyper'\n",
      "   KMP_REDUCTION_BARRIER='1,1'\n",
      "   KMP_REDUCTION_BARRIER_PATTERN='hyper,hyper'\n",
      "   KMP_SCHEDULE='static,balanced;guided,iterative'\n",
      "   KMP_SETTINGS=true\n",
      "   KMP_SPIN_BACKOFF_PARAMS='4096,100'\n",
      "   KMP_STACKOFFSET=64\n",
      "   KMP_STACKPAD=0\n",
      "   KMP_STACKSIZE=8M\n",
      "   KMP_STORAGE_MAP=false\n",
      "   KMP_TASKING=2\n",
      "   KMP_TASKLOOP_MIN_TASKS=0\n",
      "   KMP_TASK_STEALING_CONSTRAINT=1\n",
      "   KMP_TEAMS_THREAD_LIMIT=4\n",
      "   KMP_TOPOLOGY_METHOD=all\n",
      "   KMP_USE_YIELD=1\n",
      "   KMP_VERSION=false\n",
      "   KMP_WARNINGS=false\n",
      "   OMP_AFFINITY_FORMAT='OMP: pid %P tid %i thread %n bound to OS proc set {%A}'\n",
      "   OMP_ALLOCATOR=omp_default_mem_alloc\n",
      "   OMP_CANCELLATION=false\n",
      "   OMP_DEFAULT_DEVICE=0\n",
      "   OMP_DISPLAY_AFFINITY=false\n",
      "   OMP_DISPLAY_ENV=false\n",
      "   OMP_DYNAMIC=false\n",
      "   OMP_MAX_ACTIVE_LEVELS=1\n",
      "   OMP_MAX_TASK_PRIORITY=0\n",
      "   OMP_NESTED: deprecated; max-active-levels-var=1\n",
      "   OMP_NUM_THREADS: value is not defined\n",
      "   OMP_PLACES: value is not defined\n",
      "   OMP_PROC_BIND='intel'\n",
      "   OMP_SCHEDULE='static'\n",
      "   OMP_STACKSIZE=8M\n",
      "   OMP_TARGET_OFFLOAD=DEFAULT\n",
      "   OMP_THREAD_LIMIT=2147483647\n",
      "   OMP_WAIT_POLICY=PASSIVE\n",
      "   KMP_AFFINITY='verbose,warnings,respect,granularity=fine,compact,1,0'\n",
      "\n",
      "2022-01-06 01:47:05.528514: I tensorflow/core/common_runtime/process_util.cc:146] Creating new thread pool with default inter op setting: 2. Tune using inter_op_parallelism_threads for best performance.\n"
     ]
    },
    {
     "name": "stdout",
     "output_type": "stream",
     "text": [
      "Model: \"sequential\"\n",
      "_________________________________________________________________\n",
      "Layer (type)                 Output Shape              Param #   \n",
      "=================================================================\n",
      "Embedding (Embedding)        (None, None, 32)          726464    \n",
      "_________________________________________________________________\n",
      "lstm (LSTM)                  (None, 64)                24832     \n",
      "_________________________________________________________________\n",
      "dropout (Dropout)            (None, 64)                0         \n",
      "_________________________________________________________________\n",
      "dense (Dense)                (None, 64)                4160      \n",
      "_________________________________________________________________\n",
      "dense_1 (Dense)              (None, 1)                 65        \n",
      "=================================================================\n",
      "Total params: 755,521\n",
      "Trainable params: 755,521\n",
      "Non-trainable params: 0\n",
      "_________________________________________________________________\n"
     ]
    }
   ],
   "source": [
    "#create the model\n",
    "model = Sequential()\n",
    "model.add(Embedding(input_dim = vocab_size+2, output_dim = 32, name='Embedding'))\n",
    "model.add(LSTM(64)) \n",
    "model.add(Dropout(0.5))\n",
    "model.add(Dense(64, activation = 'relu'))\n",
    "model.add(Dense(1, activation='sigmoid'))\n",
    "model.compile(optimizer='adam', loss=\"binary_crossentropy\", metrics=[\"accuracy\"])\n",
    "model.summary()"
   ]
  },
  {
   "cell_type": "code",
   "execution_count": 20,
   "id": "30af3c9e",
   "metadata": {
    "execution": {
     "iopub.execute_input": "2022-01-06T01:47:05.999277Z",
     "iopub.status.busy": "2022-01-06T01:47:05.998528Z",
     "iopub.status.idle": "2022-01-06T01:47:55.160644Z",
     "shell.execute_reply": "2022-01-06T01:47:55.159985Z",
     "shell.execute_reply.started": "2022-01-06T01:30:23.332420Z"
    },
    "papermill": {
     "duration": 49.194524,
     "end_time": "2022-01-06T01:47:55.160801",
     "exception": false,
     "start_time": "2022-01-06T01:47:05.966277",
     "status": "completed"
    },
    "tags": []
   },
   "outputs": [
    {
     "name": "stdout",
     "output_type": "stream",
     "text": [
      "Epoch 1/10\n"
     ]
    },
    {
     "name": "stderr",
     "output_type": "stream",
     "text": [
      "2022-01-06 01:47:06.053583: I tensorflow/compiler/mlir/mlir_graph_optimization_pass.cc:185] None of the MLIR Optimization Passes are enabled (registered 2)\n"
     ]
    },
    {
     "name": "stdout",
     "output_type": "stream",
     "text": [
      "119/119 [==============================] - 7s 40ms/step - loss: 0.5811 - accuracy: 0.6917\n",
      "Epoch 2/10\n",
      "119/119 [==============================] - 5s 41ms/step - loss: 0.3157 - accuracy: 0.8748\n",
      "Epoch 3/10\n",
      "119/119 [==============================] - 4s 38ms/step - loss: 0.1637 - accuracy: 0.9419\n",
      "Epoch 4/10\n",
      "119/119 [==============================] - 4s 38ms/step - loss: 0.0888 - accuracy: 0.9668\n",
      "Epoch 5/10\n",
      "119/119 [==============================] - 5s 40ms/step - loss: 0.0505 - accuracy: 0.9837\n",
      "Epoch 6/10\n",
      "119/119 [==============================] - 5s 38ms/step - loss: 0.0353 - accuracy: 0.9901\n",
      "Epoch 7/10\n",
      "119/119 [==============================] - 4s 38ms/step - loss: 0.0305 - accuracy: 0.9917\n",
      "Epoch 8/10\n",
      "119/119 [==============================] - 4s 37ms/step - loss: 0.0300 - accuracy: 0.9921\n",
      "Epoch 9/10\n",
      "119/119 [==============================] - 5s 42ms/step - loss: 0.0260 - accuracy: 0.9926\n",
      "Epoch 10/10\n",
      "119/119 [==============================] - 4s 38ms/step - loss: 0.0225 - accuracy: 0.9934\n"
     ]
    }
   ],
   "source": [
    "history = model.fit(X_train, y_train, shuffle=True, epochs=10, batch_size=64)"
   ]
  },
  {
   "cell_type": "code",
   "execution_count": 21,
   "id": "3882f42c",
   "metadata": {
    "execution": {
     "iopub.execute_input": "2022-01-06T01:47:55.611696Z",
     "iopub.status.busy": "2022-01-06T01:47:55.610957Z",
     "iopub.status.idle": "2022-01-06T01:47:58.317200Z",
     "shell.execute_reply": "2022-01-06T01:47:58.316568Z",
     "shell.execute_reply.started": "2022-01-06T01:31:00.017590Z"
    },
    "papermill": {
     "duration": 2.934207,
     "end_time": "2022-01-06T01:47:58.317354",
     "exception": false,
     "start_time": "2022-01-06T01:47:55.383147",
     "status": "completed"
    },
    "tags": []
   },
   "outputs": [
    {
     "name": "stdout",
     "output_type": "stream",
     "text": [
      "238/238 [==============================] - 3s 9ms/step - loss: 0.0151 - accuracy: 0.9961\n"
     ]
    }
   ],
   "source": [
    "train_score = model.evaluate(X_train, y_train)"
   ]
  },
  {
   "cell_type": "markdown",
   "id": "88662d31",
   "metadata": {
    "papermill": {
     "duration": 0.235537,
     "end_time": "2022-01-06T01:47:58.788446",
     "exception": false,
     "start_time": "2022-01-06T01:47:58.552909",
     "status": "completed"
    },
    "tags": []
   },
   "source": [
    "## 6. Making predictions:\n",
    "The results are collected in a dataframe with the twitts and the corresponding predicted labels"
   ]
  },
  {
   "cell_type": "code",
   "execution_count": 22,
   "id": "fae07631",
   "metadata": {
    "execution": {
     "iopub.execute_input": "2022-01-06T01:47:59.263359Z",
     "iopub.status.busy": "2022-01-06T01:47:59.262479Z",
     "iopub.status.idle": "2022-01-06T01:48:00.526334Z",
     "shell.execute_reply": "2022-01-06T01:48:00.525640Z",
     "shell.execute_reply.started": "2022-01-06T01:36:30.921447Z"
    },
    "papermill": {
     "duration": 1.503621,
     "end_time": "2022-01-06T01:48:00.526482",
     "exception": false,
     "start_time": "2022-01-06T01:47:59.022861",
     "status": "completed"
    },
    "tags": []
   },
   "outputs": [],
   "source": [
    "preds = np.where(model.predict(X_test)>0.5,1.0,0.0).flatten().astype('int32')"
   ]
  },
  {
   "cell_type": "code",
   "execution_count": 23,
   "id": "5771dc71",
   "metadata": {
    "execution": {
     "iopub.execute_input": "2022-01-06T01:48:01.002276Z",
     "iopub.status.busy": "2022-01-06T01:48:01.001250Z",
     "iopub.status.idle": "2022-01-06T01:48:01.011958Z",
     "shell.execute_reply": "2022-01-06T01:48:01.012491Z",
     "shell.execute_reply.started": "2022-01-06T01:40:48.516893Z"
    },
    "papermill": {
     "duration": 0.250043,
     "end_time": "2022-01-06T01:48:01.012674",
     "exception": false,
     "start_time": "2022-01-06T01:48:00.762631",
     "status": "completed"
    },
    "tags": []
   },
   "outputs": [
    {
     "data": {
      "text/html": [
       "<div>\n",
       "<style scoped>\n",
       "    .dataframe tbody tr th:only-of-type {\n",
       "        vertical-align: middle;\n",
       "    }\n",
       "\n",
       "    .dataframe tbody tr th {\n",
       "        vertical-align: top;\n",
       "    }\n",
       "\n",
       "    .dataframe thead th {\n",
       "        text-align: right;\n",
       "    }\n",
       "</style>\n",
       "<table border=\"1\" class=\"dataframe\">\n",
       "  <thead>\n",
       "    <tr style=\"text-align: right;\">\n",
       "      <th></th>\n",
       "      <th>text</th>\n",
       "      <th>target</th>\n",
       "    </tr>\n",
       "  </thead>\n",
       "  <tbody>\n",
       "    <tr>\n",
       "      <th>0</th>\n",
       "      <td>Just happened a terrible car crash</td>\n",
       "      <td>1</td>\n",
       "    </tr>\n",
       "    <tr>\n",
       "      <th>1</th>\n",
       "      <td>Heard about #earthquake is different cities, stay safe everyone.</td>\n",
       "      <td>0</td>\n",
       "    </tr>\n",
       "    <tr>\n",
       "      <th>2</th>\n",
       "      <td>there is a forest fire at spot pond, geese are fleeing across the street, I cannot save them all</td>\n",
       "      <td>1</td>\n",
       "    </tr>\n",
       "    <tr>\n",
       "      <th>3</th>\n",
       "      <td>Apocalypse lighting. #Spokane #wildfires</td>\n",
       "      <td>1</td>\n",
       "    </tr>\n",
       "    <tr>\n",
       "      <th>4</th>\n",
       "      <td>Typhoon Soudelor kills 28 in China and Taiwan</td>\n",
       "      <td>1</td>\n",
       "    </tr>\n",
       "  </tbody>\n",
       "</table>\n",
       "</div>"
      ],
      "text/plain": [
       "                                                                                               text  \\\n",
       "0                                                                Just happened a terrible car crash   \n",
       "1                                  Heard about #earthquake is different cities, stay safe everyone.   \n",
       "2  there is a forest fire at spot pond, geese are fleeing across the street, I cannot save them all   \n",
       "3                                                          Apocalypse lighting. #Spokane #wildfires   \n",
       "4                                                     Typhoon Soudelor kills 28 in China and Taiwan   \n",
       "\n",
       "   target  \n",
       "0       1  \n",
       "1       0  \n",
       "2       1  \n",
       "3       1  \n",
       "4       1  "
      ]
     },
     "execution_count": 23,
     "metadata": {},
     "output_type": "execute_result"
    }
   ],
   "source": [
    "results = {'text':twitts_test, 'target':preds}\n",
    "df_results = pd.DataFrame(results)\n",
    "df_results.head()"
   ]
  },
  {
   "cell_type": "markdown",
   "id": "ba40fa84",
   "metadata": {
    "papermill": {
     "duration": 0.24185,
     "end_time": "2022-01-06T01:48:01.489568",
     "exception": false,
     "start_time": "2022-01-06T01:48:01.247718",
     "status": "completed"
    },
    "tags": []
   },
   "source": [
    "## 7. Compiling the submission file:\n",
    "We need to to a bit of manipulations since the submission file must only contain the given twitt id with its corresponding prediction"
   ]
  },
  {
   "cell_type": "code",
   "execution_count": 24,
   "id": "434cd028",
   "metadata": {
    "execution": {
     "iopub.execute_input": "2022-01-06T01:48:01.965668Z",
     "iopub.status.busy": "2022-01-06T01:48:01.964672Z",
     "iopub.status.idle": "2022-01-06T01:48:01.997617Z",
     "shell.execute_reply": "2022-01-06T01:48:01.998175Z"
    },
    "papermill": {
     "duration": 0.272909,
     "end_time": "2022-01-06T01:48:01.998352",
     "exception": false,
     "start_time": "2022-01-06T01:48:01.725443",
     "status": "completed"
    },
    "tags": []
   },
   "outputs": [],
   "source": [
    "submission = pd.merge(df_test, df_results, on='text').drop_duplicates()\n",
    "submission.drop(['text'],axis=1).to_csv('submission.csv', index=False)"
   ]
  }
 ],
 "metadata": {
  "kernelspec": {
   "display_name": "Python 3",
   "language": "python",
   "name": "python3"
  },
  "language_info": {
   "codemirror_mode": {
    "name": "ipython",
    "version": 3
   },
   "file_extension": ".py",
   "mimetype": "text/x-python",
   "name": "python",
   "nbconvert_exporter": "python",
   "pygments_lexer": "ipython3",
   "version": "3.7.12"
  },
  "papermill": {
   "default_parameters": {},
   "duration": 78.724282,
   "end_time": "2022-01-06T01:48:05.623562",
   "environment_variables": {},
   "exception": null,
   "input_path": "__notebook__.ipynb",
   "output_path": "__notebook__.ipynb",
   "parameters": {},
   "start_time": "2022-01-06T01:46:46.899280",
   "version": "2.3.3"
  }
 },
 "nbformat": 4,
 "nbformat_minor": 5
}
