{
  "cells": [
    {
      "cell_type": "markdown",
      "id": "74571660",
      "metadata": {
        "papermill": {
          "duration": 0.025699,
          "end_time": "2022-01-06T01:46:57.092081",
          "exception": false,
          "start_time": "2022-01-06T01:46:57.066382",
          "status": "completed"
        },
        "tags": [],
        "id": "74571660"
      },
      "source": [
        "# Twitter Sentiment Analysis"
      ]
    },
    {
      "cell_type": "code",
      "execution_count": 1,
      "id": "45e89744",
      "metadata": {
        "execution": {
          "iopub.execute_input": "2022-01-06T01:46:57.242385Z",
          "iopub.status.busy": "2022-01-06T01:46:57.241174Z",
          "iopub.status.idle": "2022-01-06T01:47:03.485833Z",
          "shell.execute_reply": "2022-01-06T01:47:03.484973Z",
          "shell.execute_reply.started": "2022-01-06T01:07:06.378969Z"
        },
        "papermill": {
          "duration": 6.272378,
          "end_time": "2022-01-06T01:47:03.486013",
          "exception": false,
          "start_time": "2022-01-06T01:46:57.213635",
          "status": "completed"
        },
        "tags": [],
        "id": "45e89744"
      },
      "outputs": [],
      "source": [
        "import os\n",
        "import numpy as np\n",
        "import pandas as pd\n",
        "import tensorflow as tf\n",
        "import tensorflow.keras as keras \n",
        "from tensorflow.keras.preprocessing.text import Tokenizer\n",
        "from tensorflow.keras.models import Sequential\n",
        "from tensorflow.keras.layers import Embedding, LSTM, Dense, Dropout"
      ]
    },
    {
      "cell_type": "code",
      "execution_count": 2,
      "id": "91f383f2",
      "metadata": {
        "execution": {
          "iopub.execute_input": "2022-01-06T01:47:03.538763Z",
          "iopub.status.busy": "2022-01-06T01:47:03.537720Z",
          "iopub.status.idle": "2022-01-06T01:47:03.541297Z",
          "shell.execute_reply": "2022-01-06T01:47:03.541943Z",
          "shell.execute_reply.started": "2022-01-06T01:13:40.906503Z"
        },
        "papermill": {
          "duration": 0.031481,
          "end_time": "2022-01-06T01:47:03.542118",
          "exception": false,
          "start_time": "2022-01-06T01:47:03.510637",
          "status": "completed"
        },
        "tags": [],
        "id": "91f383f2"
      },
      "outputs": [],
      "source": [
        "# use this to stretch the dataframe view\n",
        "pd.set_option('display.max_colwidth', None)"
      ]
    },
    {
      "cell_type": "code",
      "execution_count": 8,
      "id": "bf5428f7",
      "metadata": {
        "execution": {
          "iopub.execute_input": "2022-01-06T01:47:03.700581Z",
          "iopub.status.busy": "2022-01-06T01:47:03.699919Z",
          "iopub.status.idle": "2022-01-06T01:47:03.780838Z",
          "shell.execute_reply": "2022-01-06T01:47:03.781340Z",
          "shell.execute_reply.started": "2022-01-06T01:10:39.726799Z"
        },
        "papermill": {
          "duration": 0.110871,
          "end_time": "2022-01-06T01:47:03.781542",
          "exception": false,
          "start_time": "2022-01-06T01:47:03.670671",
          "status": "completed"
        },
        "tags": [],
        "id": "bf5428f7"
      },
      "outputs": [],
      "source": [
        "df_train = pd.read_csv('/content/test.csv')\n",
        "df_test = pd.read_csv('/content/train.csv')"
      ]
    },
    {
      "cell_type": "code",
      "execution_count": 9,
      "id": "efbfd63a",
      "metadata": {
        "execution": {
          "iopub.execute_input": "2022-01-06T01:47:03.838989Z",
          "iopub.status.busy": "2022-01-06T01:47:03.838267Z",
          "iopub.status.idle": "2022-01-06T01:47:03.853598Z",
          "shell.execute_reply": "2022-01-06T01:47:03.854104Z",
          "shell.execute_reply.started": "2022-01-06T01:13:48.053487Z"
        },
        "papermill": {
          "duration": 0.048361,
          "end_time": "2022-01-06T01:47:03.854274",
          "exception": false,
          "start_time": "2022-01-06T01:47:03.805913",
          "status": "completed"
        },
        "tags": [],
        "colab": {
          "base_uri": "https://localhost:8080/",
          "height": 206
        },
        "id": "efbfd63a",
        "outputId": "34eb76fe-dceb-4cf8-bf86-45e084323e9d"
      },
      "outputs": [
        {
          "output_type": "execute_result",
          "data": {
            "text/html": [
              "\n",
              "  <div id=\"df-14739746-bcf5-47c5-9608-aabaf13eb131\">\n",
              "    <div class=\"colab-df-container\">\n",
              "      <div>\n",
              "<style scoped>\n",
              "    .dataframe tbody tr th:only-of-type {\n",
              "        vertical-align: middle;\n",
              "    }\n",
              "\n",
              "    .dataframe tbody tr th {\n",
              "        vertical-align: top;\n",
              "    }\n",
              "\n",
              "    .dataframe thead th {\n",
              "        text-align: right;\n",
              "    }\n",
              "</style>\n",
              "<table border=\"1\" class=\"dataframe\">\n",
              "  <thead>\n",
              "    <tr style=\"text-align: right;\">\n",
              "      <th></th>\n",
              "      <th>id</th>\n",
              "      <th>keyword</th>\n",
              "      <th>location</th>\n",
              "      <th>text</th>\n",
              "    </tr>\n",
              "  </thead>\n",
              "  <tbody>\n",
              "    <tr>\n",
              "      <th>0</th>\n",
              "      <td>0</td>\n",
              "      <td>NaN</td>\n",
              "      <td>NaN</td>\n",
              "      <td>Just happened a terrible car crash</td>\n",
              "    </tr>\n",
              "    <tr>\n",
              "      <th>1</th>\n",
              "      <td>2</td>\n",
              "      <td>NaN</td>\n",
              "      <td>NaN</td>\n",
              "      <td>Heard about #earthquake is different cities, stay safe everyone.</td>\n",
              "    </tr>\n",
              "    <tr>\n",
              "      <th>2</th>\n",
              "      <td>3</td>\n",
              "      <td>NaN</td>\n",
              "      <td>NaN</td>\n",
              "      <td>there is a forest fire at spot pond, geese are fleeing across the street, I cannot save them all</td>\n",
              "    </tr>\n",
              "    <tr>\n",
              "      <th>3</th>\n",
              "      <td>9</td>\n",
              "      <td>NaN</td>\n",
              "      <td>NaN</td>\n",
              "      <td>Apocalypse lighting. #Spokane #wildfires</td>\n",
              "    </tr>\n",
              "    <tr>\n",
              "      <th>4</th>\n",
              "      <td>11</td>\n",
              "      <td>NaN</td>\n",
              "      <td>NaN</td>\n",
              "      <td>Typhoon Soudelor kills 28 in China and Taiwan</td>\n",
              "    </tr>\n",
              "  </tbody>\n",
              "</table>\n",
              "</div>\n",
              "      <button class=\"colab-df-convert\" onclick=\"convertToInteractive('df-14739746-bcf5-47c5-9608-aabaf13eb131')\"\n",
              "              title=\"Convert this dataframe to an interactive table.\"\n",
              "              style=\"display:none;\">\n",
              "        \n",
              "  <svg xmlns=\"http://www.w3.org/2000/svg\" height=\"24px\"viewBox=\"0 0 24 24\"\n",
              "       width=\"24px\">\n",
              "    <path d=\"M0 0h24v24H0V0z\" fill=\"none\"/>\n",
              "    <path d=\"M18.56 5.44l.94 2.06.94-2.06 2.06-.94-2.06-.94-.94-2.06-.94 2.06-2.06.94zm-11 1L8.5 8.5l.94-2.06 2.06-.94-2.06-.94L8.5 2.5l-.94 2.06-2.06.94zm10 10l.94 2.06.94-2.06 2.06-.94-2.06-.94-.94-2.06-.94 2.06-2.06.94z\"/><path d=\"M17.41 7.96l-1.37-1.37c-.4-.4-.92-.59-1.43-.59-.52 0-1.04.2-1.43.59L10.3 9.45l-7.72 7.72c-.78.78-.78 2.05 0 2.83L4 21.41c.39.39.9.59 1.41.59.51 0 1.02-.2 1.41-.59l7.78-7.78 2.81-2.81c.8-.78.8-2.07 0-2.86zM5.41 20L4 18.59l7.72-7.72 1.47 1.35L5.41 20z\"/>\n",
              "  </svg>\n",
              "      </button>\n",
              "      \n",
              "  <style>\n",
              "    .colab-df-container {\n",
              "      display:flex;\n",
              "      flex-wrap:wrap;\n",
              "      gap: 12px;\n",
              "    }\n",
              "\n",
              "    .colab-df-convert {\n",
              "      background-color: #E8F0FE;\n",
              "      border: none;\n",
              "      border-radius: 50%;\n",
              "      cursor: pointer;\n",
              "      display: none;\n",
              "      fill: #1967D2;\n",
              "      height: 32px;\n",
              "      padding: 0 0 0 0;\n",
              "      width: 32px;\n",
              "    }\n",
              "\n",
              "    .colab-df-convert:hover {\n",
              "      background-color: #E2EBFA;\n",
              "      box-shadow: 0px 1px 2px rgba(60, 64, 67, 0.3), 0px 1px 3px 1px rgba(60, 64, 67, 0.15);\n",
              "      fill: #174EA6;\n",
              "    }\n",
              "\n",
              "    [theme=dark] .colab-df-convert {\n",
              "      background-color: #3B4455;\n",
              "      fill: #D2E3FC;\n",
              "    }\n",
              "\n",
              "    [theme=dark] .colab-df-convert:hover {\n",
              "      background-color: #434B5C;\n",
              "      box-shadow: 0px 1px 3px 1px rgba(0, 0, 0, 0.15);\n",
              "      filter: drop-shadow(0px 1px 2px rgba(0, 0, 0, 0.3));\n",
              "      fill: #FFFFFF;\n",
              "    }\n",
              "  </style>\n",
              "\n",
              "      <script>\n",
              "        const buttonEl =\n",
              "          document.querySelector('#df-14739746-bcf5-47c5-9608-aabaf13eb131 button.colab-df-convert');\n",
              "        buttonEl.style.display =\n",
              "          google.colab.kernel.accessAllowed ? 'block' : 'none';\n",
              "\n",
              "        async function convertToInteractive(key) {\n",
              "          const element = document.querySelector('#df-14739746-bcf5-47c5-9608-aabaf13eb131');\n",
              "          const dataTable =\n",
              "            await google.colab.kernel.invokeFunction('convertToInteractive',\n",
              "                                                     [key], {});\n",
              "          if (!dataTable) return;\n",
              "\n",
              "          const docLinkHtml = 'Like what you see? Visit the ' +\n",
              "            '<a target=\"_blank\" href=https://colab.research.google.com/notebooks/data_table.ipynb>data table notebook</a>'\n",
              "            + ' to learn more about interactive tables.';\n",
              "          element.innerHTML = '';\n",
              "          dataTable['output_type'] = 'display_data';\n",
              "          await google.colab.output.renderOutput(dataTable, element);\n",
              "          const docLink = document.createElement('div');\n",
              "          docLink.innerHTML = docLinkHtml;\n",
              "          element.appendChild(docLink);\n",
              "        }\n",
              "      </script>\n",
              "    </div>\n",
              "  </div>\n",
              "  "
            ],
            "text/plain": [
              "   id  ...                                                                                              text\n",
              "0   0  ...                                                                Just happened a terrible car crash\n",
              "1   2  ...                                  Heard about #earthquake is different cities, stay safe everyone.\n",
              "2   3  ...  there is a forest fire at spot pond, geese are fleeing across the street, I cannot save them all\n",
              "3   9  ...                                                          Apocalypse lighting. #Spokane #wildfires\n",
              "4  11  ...                                                     Typhoon Soudelor kills 28 in China and Taiwan\n",
              "\n",
              "[5 rows x 4 columns]"
            ]
          },
          "metadata": {},
          "execution_count": 9
        }
      ],
      "source": [
        "df_train.head()"
      ]
    },
    {
      "cell_type": "code",
      "execution_count": 10,
      "id": "7346fc69",
      "metadata": {
        "execution": {
          "iopub.execute_input": "2022-01-06T01:47:03.907564Z",
          "iopub.status.busy": "2022-01-06T01:47:03.906917Z",
          "iopub.status.idle": "2022-01-06T01:47:03.921874Z",
          "shell.execute_reply": "2022-01-06T01:47:03.921173Z",
          "shell.execute_reply.started": "2022-01-06T01:13:11.732226Z"
        },
        "papermill": {
          "duration": 0.042393,
          "end_time": "2022-01-06T01:47:03.922025",
          "exception": false,
          "start_time": "2022-01-06T01:47:03.879632",
          "status": "completed"
        },
        "tags": [],
        "id": "7346fc69"
      },
      "outputs": [],
      "source": [
        "df_train = df_train.drop(['keyword','location'], axis=1)\n",
        "df_test = df_test.drop(['keyword','location'], axis=1)"
      ]
    },
    {
      "cell_type": "code",
      "execution_count": 11,
      "id": "99f486ae",
      "metadata": {
        "execution": {
          "iopub.execute_input": "2022-01-06T01:47:03.982947Z",
          "iopub.status.busy": "2022-01-06T01:47:03.982034Z",
          "iopub.status.idle": "2022-01-06T01:47:03.985518Z",
          "shell.execute_reply": "2022-01-06T01:47:03.986056Z",
          "shell.execute_reply.started": "2022-01-06T01:13:51.038861Z"
        },
        "papermill": {
          "duration": 0.038316,
          "end_time": "2022-01-06T01:47:03.986241",
          "exception": false,
          "start_time": "2022-01-06T01:47:03.947925",
          "status": "completed"
        },
        "tags": [],
        "colab": {
          "base_uri": "https://localhost:8080/",
          "height": 206
        },
        "id": "99f486ae",
        "outputId": "7d35e1b5-1108-41b3-b0ca-ea5edb9bc98e"
      },
      "outputs": [
        {
          "output_type": "execute_result",
          "data": {
            "text/html": [
              "\n",
              "  <div id=\"df-418de521-d6f6-4625-b0e3-8d99d584e648\">\n",
              "    <div class=\"colab-df-container\">\n",
              "      <div>\n",
              "<style scoped>\n",
              "    .dataframe tbody tr th:only-of-type {\n",
              "        vertical-align: middle;\n",
              "    }\n",
              "\n",
              "    .dataframe tbody tr th {\n",
              "        vertical-align: top;\n",
              "    }\n",
              "\n",
              "    .dataframe thead th {\n",
              "        text-align: right;\n",
              "    }\n",
              "</style>\n",
              "<table border=\"1\" class=\"dataframe\">\n",
              "  <thead>\n",
              "    <tr style=\"text-align: right;\">\n",
              "      <th></th>\n",
              "      <th>id</th>\n",
              "      <th>text</th>\n",
              "    </tr>\n",
              "  </thead>\n",
              "  <tbody>\n",
              "    <tr>\n",
              "      <th>0</th>\n",
              "      <td>0</td>\n",
              "      <td>Just happened a terrible car crash</td>\n",
              "    </tr>\n",
              "    <tr>\n",
              "      <th>1</th>\n",
              "      <td>2</td>\n",
              "      <td>Heard about #earthquake is different cities, stay safe everyone.</td>\n",
              "    </tr>\n",
              "    <tr>\n",
              "      <th>2</th>\n",
              "      <td>3</td>\n",
              "      <td>there is a forest fire at spot pond, geese are fleeing across the street, I cannot save them all</td>\n",
              "    </tr>\n",
              "    <tr>\n",
              "      <th>3</th>\n",
              "      <td>9</td>\n",
              "      <td>Apocalypse lighting. #Spokane #wildfires</td>\n",
              "    </tr>\n",
              "    <tr>\n",
              "      <th>4</th>\n",
              "      <td>11</td>\n",
              "      <td>Typhoon Soudelor kills 28 in China and Taiwan</td>\n",
              "    </tr>\n",
              "  </tbody>\n",
              "</table>\n",
              "</div>\n",
              "      <button class=\"colab-df-convert\" onclick=\"convertToInteractive('df-418de521-d6f6-4625-b0e3-8d99d584e648')\"\n",
              "              title=\"Convert this dataframe to an interactive table.\"\n",
              "              style=\"display:none;\">\n",
              "        \n",
              "  <svg xmlns=\"http://www.w3.org/2000/svg\" height=\"24px\"viewBox=\"0 0 24 24\"\n",
              "       width=\"24px\">\n",
              "    <path d=\"M0 0h24v24H0V0z\" fill=\"none\"/>\n",
              "    <path d=\"M18.56 5.44l.94 2.06.94-2.06 2.06-.94-2.06-.94-.94-2.06-.94 2.06-2.06.94zm-11 1L8.5 8.5l.94-2.06 2.06-.94-2.06-.94L8.5 2.5l-.94 2.06-2.06.94zm10 10l.94 2.06.94-2.06 2.06-.94-2.06-.94-.94-2.06-.94 2.06-2.06.94z\"/><path d=\"M17.41 7.96l-1.37-1.37c-.4-.4-.92-.59-1.43-.59-.52 0-1.04.2-1.43.59L10.3 9.45l-7.72 7.72c-.78.78-.78 2.05 0 2.83L4 21.41c.39.39.9.59 1.41.59.51 0 1.02-.2 1.41-.59l7.78-7.78 2.81-2.81c.8-.78.8-2.07 0-2.86zM5.41 20L4 18.59l7.72-7.72 1.47 1.35L5.41 20z\"/>\n",
              "  </svg>\n",
              "      </button>\n",
              "      \n",
              "  <style>\n",
              "    .colab-df-container {\n",
              "      display:flex;\n",
              "      flex-wrap:wrap;\n",
              "      gap: 12px;\n",
              "    }\n",
              "\n",
              "    .colab-df-convert {\n",
              "      background-color: #E8F0FE;\n",
              "      border: none;\n",
              "      border-radius: 50%;\n",
              "      cursor: pointer;\n",
              "      display: none;\n",
              "      fill: #1967D2;\n",
              "      height: 32px;\n",
              "      padding: 0 0 0 0;\n",
              "      width: 32px;\n",
              "    }\n",
              "\n",
              "    .colab-df-convert:hover {\n",
              "      background-color: #E2EBFA;\n",
              "      box-shadow: 0px 1px 2px rgba(60, 64, 67, 0.3), 0px 1px 3px 1px rgba(60, 64, 67, 0.15);\n",
              "      fill: #174EA6;\n",
              "    }\n",
              "\n",
              "    [theme=dark] .colab-df-convert {\n",
              "      background-color: #3B4455;\n",
              "      fill: #D2E3FC;\n",
              "    }\n",
              "\n",
              "    [theme=dark] .colab-df-convert:hover {\n",
              "      background-color: #434B5C;\n",
              "      box-shadow: 0px 1px 3px 1px rgba(0, 0, 0, 0.15);\n",
              "      filter: drop-shadow(0px 1px 2px rgba(0, 0, 0, 0.3));\n",
              "      fill: #FFFFFF;\n",
              "    }\n",
              "  </style>\n",
              "\n",
              "      <script>\n",
              "        const buttonEl =\n",
              "          document.querySelector('#df-418de521-d6f6-4625-b0e3-8d99d584e648 button.colab-df-convert');\n",
              "        buttonEl.style.display =\n",
              "          google.colab.kernel.accessAllowed ? 'block' : 'none';\n",
              "\n",
              "        async function convertToInteractive(key) {\n",
              "          const element = document.querySelector('#df-418de521-d6f6-4625-b0e3-8d99d584e648');\n",
              "          const dataTable =\n",
              "            await google.colab.kernel.invokeFunction('convertToInteractive',\n",
              "                                                     [key], {});\n",
              "          if (!dataTable) return;\n",
              "\n",
              "          const docLinkHtml = 'Like what you see? Visit the ' +\n",
              "            '<a target=\"_blank\" href=https://colab.research.google.com/notebooks/data_table.ipynb>data table notebook</a>'\n",
              "            + ' to learn more about interactive tables.';\n",
              "          element.innerHTML = '';\n",
              "          dataTable['output_type'] = 'display_data';\n",
              "          await google.colab.output.renderOutput(dataTable, element);\n",
              "          const docLink = document.createElement('div');\n",
              "          docLink.innerHTML = docLinkHtml;\n",
              "          element.appendChild(docLink);\n",
              "        }\n",
              "      </script>\n",
              "    </div>\n",
              "  </div>\n",
              "  "
            ],
            "text/plain": [
              "   id                                                                                              text\n",
              "0   0                                                                Just happened a terrible car crash\n",
              "1   2                                  Heard about #earthquake is different cities, stay safe everyone.\n",
              "2   3  there is a forest fire at spot pond, geese are fleeing across the street, I cannot save them all\n",
              "3   9                                                          Apocalypse lighting. #Spokane #wildfires\n",
              "4  11                                                     Typhoon Soudelor kills 28 in China and Taiwan"
            ]
          },
          "metadata": {},
          "execution_count": 11
        }
      ],
      "source": [
        "df_train.head()"
      ]
    },
    {
      "cell_type": "code",
      "execution_count": 12,
      "id": "c38f8971",
      "metadata": {
        "execution": {
          "iopub.execute_input": "2022-01-06T01:47:04.097795Z",
          "iopub.status.busy": "2022-01-06T01:47:04.097108Z",
          "iopub.status.idle": "2022-01-06T01:47:04.100215Z",
          "shell.execute_reply": "2022-01-06T01:47:04.099580Z",
          "shell.execute_reply.started": "2022-01-06T01:15:41.713435Z"
        },
        "papermill": {
          "duration": 0.036572,
          "end_time": "2022-01-06T01:47:04.100355",
          "exception": false,
          "start_time": "2022-01-06T01:47:04.063783",
          "status": "completed"
        },
        "tags": [],
        "id": "c38f8971"
      },
      "outputs": [],
      "source": [
        "x = df_train.sort_values(by= ['id'], ascending=True)\n",
        "x_test = df_test.sort_values(by= ['id'], ascending=True)"
      ]
    },
    {
      "cell_type": "code",
      "execution_count": 13,
      "id": "78bd427f",
      "metadata": {
        "execution": {
          "iopub.execute_input": "2022-01-06T01:47:04.157216Z",
          "iopub.status.busy": "2022-01-06T01:47:04.156489Z",
          "iopub.status.idle": "2022-01-06T01:47:04.160323Z",
          "shell.execute_reply": "2022-01-06T01:47:04.160838Z",
          "shell.execute_reply.started": "2022-01-06T01:16:59.820052Z"
        },
        "papermill": {
          "duration": 0.035396,
          "end_time": "2022-01-06T01:47:04.161025",
          "exception": false,
          "start_time": "2022-01-06T01:47:04.125629",
          "status": "completed"
        },
        "tags": [],
        "id": "78bd427f"
      },
      "outputs": [],
      "source": [
        "#Retrieve the text from the dataframe as a numpy array\n",
        "twitts = x.loc[:,x.columns=='text'].values.flatten()\n",
        "twitts_test = x_test.loc[:,x_test.columns=='text'].values.flatten()"
      ]
    },
    {
      "cell_type": "code",
      "execution_count": 14,
      "id": "66ab8bb9",
      "metadata": {
        "execution": {
          "iopub.execute_input": "2022-01-06T01:47:04.217594Z",
          "iopub.status.busy": "2022-01-06T01:47:04.216917Z",
          "iopub.status.idle": "2022-01-06T01:47:04.219561Z",
          "shell.execute_reply": "2022-01-06T01:47:04.220073Z",
          "shell.execute_reply.started": "2022-01-06T01:17:27.654205Z"
        },
        "papermill": {
          "duration": 0.033838,
          "end_time": "2022-01-06T01:47:04.220243",
          "exception": false,
          "start_time": "2022-01-06T01:47:04.186405",
          "status": "completed"
        },
        "tags": [],
        "colab": {
          "base_uri": "https://localhost:8080/"
        },
        "id": "66ab8bb9",
        "outputId": "dabd3070-0be9-4cdc-db14-4e094e4ecbd4"
      },
      "outputs": [
        {
          "output_type": "stream",
          "name": "stdout",
          "text": [
            "['Just happened a terrible car crash'\n",
            " 'Heard about #earthquake is different cities, stay safe everyone.'\n",
            " 'there is a forest fire at spot pond, geese are fleeing across the street, I cannot save them all'\n",
            " 'Apocalypse lighting. #Spokane #wildfires'\n",
            " 'Typhoon Soudelor kills 28 in China and Taiwan'\n",
            " \"We're shaking...It's an earthquake\"\n",
            " \"They'd probably still show more life than Arsenal did yesterday, eh? EH?\"\n",
            " 'Hey! How are you?' 'What a nice hat?' 'Fuck off!']\n"
          ]
        }
      ],
      "source": [
        "# see a sample of the collected twitts:\n",
        "print(twitts[:10])"
      ]
    },
    {
      "cell_type": "code",
      "execution_count": 15,
      "id": "9c9d50ce",
      "metadata": {
        "execution": {
          "iopub.execute_input": "2022-01-06T01:47:04.328745Z",
          "iopub.status.busy": "2022-01-06T01:47:04.327743Z",
          "iopub.status.idle": "2022-01-06T01:47:04.333190Z",
          "shell.execute_reply": "2022-01-06T01:47:04.332309Z",
          "shell.execute_reply.started": "2022-01-06T01:21:33.238493Z"
        },
        "papermill": {
          "duration": 0.036169,
          "end_time": "2022-01-06T01:47:04.333397",
          "exception": false,
          "start_time": "2022-01-06T01:47:04.297228",
          "status": "completed"
        },
        "tags": [],
        "id": "9c9d50ce"
      },
      "outputs": [],
      "source": [
        "t = Tokenizer()\n",
        "def preprocess(text):\n",
        "    seqs = t.fit_on_texts(text)\n",
        "    return seqs"
      ]
    },
    {
      "cell_type": "code",
      "execution_count": 16,
      "id": "8497141c",
      "metadata": {
        "execution": {
          "iopub.execute_input": "2022-01-06T01:47:04.391215Z",
          "iopub.status.busy": "2022-01-06T01:47:04.390229Z",
          "iopub.status.idle": "2022-01-06T01:47:04.617373Z",
          "shell.execute_reply": "2022-01-06T01:47:04.617899Z",
          "shell.execute_reply.started": "2022-01-06T01:21:42.039823Z"
        },
        "papermill": {
          "duration": 0.25642,
          "end_time": "2022-01-06T01:47:04.618093",
          "exception": false,
          "start_time": "2022-01-06T01:47:04.361673",
          "status": "completed"
        },
        "tags": [],
        "id": "8497141c"
      },
      "outputs": [],
      "source": [
        "#fit tokenizer on training set:\n",
        "tokens=preprocess(twitts)"
      ]
    },
    {
      "cell_type": "code",
      "execution_count": 17,
      "id": "14dc9b61",
      "metadata": {
        "execution": {
          "iopub.execute_input": "2022-01-06T01:47:04.673309Z",
          "iopub.status.busy": "2022-01-06T01:47:04.672647Z",
          "iopub.status.idle": "2022-01-06T01:47:04.927706Z",
          "shell.execute_reply": "2022-01-06T01:47:04.928223Z",
          "shell.execute_reply.started": "2022-01-06T01:21:54.478633Z"
        },
        "papermill": {
          "duration": 0.284191,
          "end_time": "2022-01-06T01:47:04.928422",
          "exception": false,
          "start_time": "2022-01-06T01:47:04.644231",
          "status": "completed"
        },
        "tags": [],
        "id": "14dc9b61"
      },
      "outputs": [],
      "source": [
        "#text to sequences\n",
        "X_train = t.texts_to_sequences(twitts)\n",
        "X_test = t.texts_to_sequences(twitts_test)"
      ]
    },
    {
      "cell_type": "code",
      "execution_count": 18,
      "id": "fb72f956",
      "metadata": {
        "execution": {
          "iopub.execute_input": "2022-01-06T01:47:04.983557Z",
          "iopub.status.busy": "2022-01-06T01:47:04.982799Z",
          "iopub.status.idle": "2022-01-06T01:47:05.114013Z",
          "shell.execute_reply": "2022-01-06T01:47:05.113312Z",
          "shell.execute_reply.started": "2022-01-06T01:22:55.118828Z"
        },
        "papermill": {
          "duration": 0.159954,
          "end_time": "2022-01-06T01:47:05.114184",
          "exception": false,
          "start_time": "2022-01-06T01:47:04.954230",
          "status": "completed"
        },
        "tags": [],
        "id": "fb72f956"
      },
      "outputs": [],
      "source": [
        "#pad sequences\n",
        "X_train = np.array(X_train, dtype=object)\n",
        "X_test = np.array(X_test, dtype=object)\n",
        "X_train = keras.preprocessing.sequence.pad_sequences(X_train)\n",
        "X_test = keras.preprocessing.sequence.pad_sequences(X_test)"
      ]
    },
    {
      "cell_type": "code",
      "execution_count": 19,
      "id": "95914db7",
      "metadata": {
        "execution": {
          "iopub.execute_input": "2022-01-06T01:47:05.175149Z",
          "iopub.status.busy": "2022-01-06T01:47:05.174389Z",
          "iopub.status.idle": "2022-01-06T01:47:05.177039Z",
          "shell.execute_reply": "2022-01-06T01:47:05.177564Z",
          "shell.execute_reply.started": "2022-01-06T01:23:42.358966Z"
        },
        "papermill": {
          "duration": 0.035682,
          "end_time": "2022-01-06T01:47:05.177749",
          "exception": false,
          "start_time": "2022-01-06T01:47:05.142067",
          "status": "completed"
        },
        "tags": [],
        "colab": {
          "base_uri": "https://localhost:8080/"
        },
        "id": "95914db7",
        "outputId": "2cedde55-baa4-4c9e-e09a-82417a403689"
      },
      "outputs": [
        {
          "output_type": "stream",
          "name": "stdout",
          "text": [
            "[  0   0   0   0   0   0   0   0   0   0   0   0   0   0   0   0   0   0\n",
            "   0   0   0   0   0   0   0  34 567   5 985 135 100]\n"
          ]
        }
      ],
      "source": [
        "# this is a single encoded twitt:\n",
        "print(X_train[0])"
      ]
    },
    {
      "cell_type": "code",
      "execution_count": 20,
      "id": "bcf1831d",
      "metadata": {
        "execution": {
          "iopub.execute_input": "2022-01-06T01:47:05.235855Z",
          "iopub.status.busy": "2022-01-06T01:47:05.235035Z",
          "iopub.status.idle": "2022-01-06T01:47:05.238803Z",
          "shell.execute_reply": "2022-01-06T01:47:05.238063Z",
          "shell.execute_reply.started": "2022-01-06T01:23:55.066392Z"
        },
        "papermill": {
          "duration": 0.03524,
          "end_time": "2022-01-06T01:47:05.238965",
          "exception": false,
          "start_time": "2022-01-06T01:47:05.203725",
          "status": "completed"
        },
        "tags": [],
        "colab": {
          "base_uri": "https://localhost:8080/"
        },
        "id": "bcf1831d",
        "outputId": "85d3822d-799b-44b7-951b-d377ce3d05e4"
      },
      "outputs": [
        {
          "output_type": "stream",
          "name": "stdout",
          "text": [
            "Size of vocabulary: 12818\n"
          ]
        }
      ],
      "source": [
        "#size of the vocabulary\n",
        "vocab_size = len(t.word_index)\n",
        "print('Size of vocabulary:', vocab_size)"
      ]
    },
    {
      "cell_type": "code",
      "execution_count": 22,
      "id": "e2d86236",
      "metadata": {
        "execution": {
          "iopub.execute_input": "2022-01-06T01:47:05.308905Z",
          "iopub.status.busy": "2022-01-06T01:47:05.308188Z",
          "iopub.status.idle": "2022-01-06T01:47:05.310499Z",
          "shell.execute_reply": "2022-01-06T01:47:05.311085Z",
          "shell.execute_reply.started": "2022-01-06T01:24:05.388230Z"
        },
        "papermill": {
          "duration": 0.039354,
          "end_time": "2022-01-06T01:47:05.311253",
          "exception": false,
          "start_time": "2022-01-06T01:47:05.271899",
          "status": "completed"
        },
        "tags": [],
        "colab": {
          "base_uri": "https://localhost:8080/",
          "height": 335
        },
        "id": "e2d86236",
        "outputId": "6c0d132c-5736-4f47-89d3-3f2e1b1978d8"
      },
      "outputs": [
        {
          "output_type": "error",
          "ename": "AttributeError",
          "evalue": "ignored",
          "traceback": [
            "\u001b[0;31m---------------------------------------------------------------------------\u001b[0m",
            "\u001b[0;31mAttributeError\u001b[0m                            Traceback (most recent call last)",
            "\u001b[0;32m<ipython-input-22-05b87f89b393>\u001b[0m in \u001b[0;36m<module>\u001b[0;34m()\u001b[0m\n\u001b[1;32m      1\u001b[0m \u001b[0;31m# target training variable:\u001b[0m\u001b[0;34m\u001b[0m\u001b[0;34m\u001b[0m\u001b[0;34m\u001b[0m\u001b[0m\n\u001b[0;32m----> 2\u001b[0;31m \u001b[0my_train\u001b[0m \u001b[0;34m=\u001b[0m \u001b[0mdf_train\u001b[0m\u001b[0;34m.\u001b[0m\u001b[0mtarget\u001b[0m\u001b[0;34m.\u001b[0m\u001b[0mvalues\u001b[0m\u001b[0;34m\u001b[0m\u001b[0;34m\u001b[0m\u001b[0m\n\u001b[0m",
            "\u001b[0;32m/usr/local/lib/python3.7/dist-packages/pandas/core/generic.py\u001b[0m in \u001b[0;36m__getattr__\u001b[0;34m(self, name)\u001b[0m\n\u001b[1;32m   5139\u001b[0m             \u001b[0;32mif\u001b[0m \u001b[0mself\u001b[0m\u001b[0;34m.\u001b[0m\u001b[0m_info_axis\u001b[0m\u001b[0;34m.\u001b[0m\u001b[0m_can_hold_identifiers_and_holds_name\u001b[0m\u001b[0;34m(\u001b[0m\u001b[0mname\u001b[0m\u001b[0;34m)\u001b[0m\u001b[0;34m:\u001b[0m\u001b[0;34m\u001b[0m\u001b[0;34m\u001b[0m\u001b[0m\n\u001b[1;32m   5140\u001b[0m                 \u001b[0;32mreturn\u001b[0m \u001b[0mself\u001b[0m\u001b[0;34m[\u001b[0m\u001b[0mname\u001b[0m\u001b[0;34m]\u001b[0m\u001b[0;34m\u001b[0m\u001b[0;34m\u001b[0m\u001b[0m\n\u001b[0;32m-> 5141\u001b[0;31m             \u001b[0;32mreturn\u001b[0m \u001b[0mobject\u001b[0m\u001b[0;34m.\u001b[0m\u001b[0m__getattribute__\u001b[0m\u001b[0;34m(\u001b[0m\u001b[0mself\u001b[0m\u001b[0;34m,\u001b[0m \u001b[0mname\u001b[0m\u001b[0;34m)\u001b[0m\u001b[0;34m\u001b[0m\u001b[0;34m\u001b[0m\u001b[0m\n\u001b[0m\u001b[1;32m   5142\u001b[0m \u001b[0;34m\u001b[0m\u001b[0m\n\u001b[1;32m   5143\u001b[0m     \u001b[0;32mdef\u001b[0m \u001b[0m__setattr__\u001b[0m\u001b[0;34m(\u001b[0m\u001b[0mself\u001b[0m\u001b[0;34m,\u001b[0m \u001b[0mname\u001b[0m\u001b[0;34m:\u001b[0m \u001b[0mstr\u001b[0m\u001b[0;34m,\u001b[0m \u001b[0mvalue\u001b[0m\u001b[0;34m)\u001b[0m \u001b[0;34m->\u001b[0m \u001b[0;32mNone\u001b[0m\u001b[0;34m:\u001b[0m\u001b[0;34m\u001b[0m\u001b[0;34m\u001b[0m\u001b[0m\n",
            "\u001b[0;31mAttributeError\u001b[0m: 'DataFrame' object has no attribute 'target'"
          ]
        }
      ],
      "source": [
        "# target training variable:\n",
        "y_train = df_train.target.values"
      ]
    },
    {
      "cell_type": "code",
      "execution_count": 23,
      "id": "b55a4224",
      "metadata": {
        "execution": {
          "iopub.execute_input": "2022-01-06T01:47:05.367737Z",
          "iopub.status.busy": "2022-01-06T01:47:05.367008Z",
          "iopub.status.idle": "2022-01-06T01:47:05.371479Z",
          "shell.execute_reply": "2022-01-06T01:47:05.371997Z",
          "shell.execute_reply.started": "2022-01-06T01:25:37.082465Z"
        },
        "papermill": {
          "duration": 0.034333,
          "end_time": "2022-01-06T01:47:05.372172",
          "exception": false,
          "start_time": "2022-01-06T01:47:05.337839",
          "status": "completed"
        },
        "tags": [],
        "colab": {
          "base_uri": "https://localhost:8080/",
          "height": 199
        },
        "id": "b55a4224",
        "outputId": "0f55ab50-3136-42b3-c1dc-fb92c1ea8c3f"
      },
      "outputs": [
        {
          "output_type": "error",
          "ename": "NameError",
          "evalue": "ignored",
          "traceback": [
            "\u001b[0;31m---------------------------------------------------------------------------\u001b[0m",
            "\u001b[0;31mNameError\u001b[0m                                 Traceback (most recent call last)",
            "\u001b[0;32m<ipython-input-23-30b3df577ac3>\u001b[0m in \u001b[0;36m<module>\u001b[0;34m()\u001b[0m\n\u001b[1;32m      1\u001b[0m \u001b[0;31m# the y variable represents the labels (1 for true disaster, 0 otherwise):\u001b[0m\u001b[0;34m\u001b[0m\u001b[0;34m\u001b[0m\u001b[0;34m\u001b[0m\u001b[0m\n\u001b[0;32m----> 2\u001b[0;31m \u001b[0mprint\u001b[0m\u001b[0;34m(\u001b[0m\u001b[0my_train\u001b[0m\u001b[0;34m[\u001b[0m\u001b[0;36m0\u001b[0m\u001b[0;34m]\u001b[0m\u001b[0;34m)\u001b[0m\u001b[0;34m\u001b[0m\u001b[0;34m\u001b[0m\u001b[0m\n\u001b[0m",
            "\u001b[0;31mNameError\u001b[0m: name 'y_train' is not defined"
          ]
        }
      ],
      "source": [
        "# the y variable represents the labels (1 for true disaster, 0 otherwise):\n",
        "print(y_train[0])"
      ]
    },
    {
      "cell_type": "code",
      "execution_count": null,
      "id": "c4803236",
      "metadata": {
        "execution": {
          "iopub.execute_input": "2022-01-06T01:47:05.483093Z",
          "iopub.status.busy": "2022-01-06T01:47:05.482415Z",
          "iopub.status.idle": "2022-01-06T01:47:05.937297Z",
          "shell.execute_reply": "2022-01-06T01:47:05.937934Z",
          "shell.execute_reply.started": "2022-01-06T01:26:37.475609Z"
        },
        "papermill": {
          "duration": 0.484771,
          "end_time": "2022-01-06T01:47:05.938123",
          "exception": false,
          "start_time": "2022-01-06T01:47:05.453352",
          "status": "completed"
        },
        "tags": [],
        "id": "c4803236",
        "outputId": "421f9f9c-0efd-4601-9ad0-b2826826ba37"
      },
      "outputs": [
        {
          "name": "stderr",
          "output_type": "stream",
          "text": [
            "\n",
            "User settings:\n",
            "\n",
            "   KMP_AFFINITY=granularity=fine,verbose,compact,1,0\n",
            "   KMP_BLOCKTIME=0\n",
            "   KMP_SETTINGS=1\n",
            "   KMP_WARNINGS=0\n",
            "\n",
            "Effective settings:\n",
            "\n",
            "   KMP_ABORT_DELAY=0\n",
            "   KMP_ADAPTIVE_LOCK_PROPS='1,1024'\n",
            "   KMP_ALIGN_ALLOC=64\n",
            "   KMP_ALL_THREADPRIVATE=128\n",
            "   KMP_ATOMIC_MODE=2\n",
            "   KMP_BLOCKTIME=0\n",
            "   KMP_CPUINFO_FILE: value is not defined\n",
            "   KMP_DETERMINISTIC_REDUCTION=false\n",
            "   KMP_DEVICE_THREAD_LIMIT=2147483647\n",
            "   KMP_DISP_NUM_BUFFERS=7\n",
            "   KMP_DUPLICATE_LIB_OK=false\n",
            "   KMP_ENABLE_TASK_THROTTLING=true\n",
            "   KMP_FORCE_REDUCTION: value is not defined\n",
            "   KMP_FOREIGN_THREADS_THREADPRIVATE=true\n",
            "   KMP_FORKJOIN_BARRIER='2,2'\n",
            "   KMP_FORKJOIN_BARRIER_PATTERN='hyper,hyper'\n",
            "   KMP_GTID_MODE=3\n",
            "   KMP_HANDLE_SIGNALS=false\n",
            "   KMP_HOT_TEAMS_MAX_LEVEL=1\n",
            "   KMP_HOT_TEAMS_MODE=0\n",
            "   KMP_INIT_AT_FORK=true\n",
            "   KMP_LIBRARY=throughput\n",
            "   KMP_LOCK_KIND=queuing\n",
            "   KMP_MALLOC_POOL_INCR=1M\n",
            "   KMP_NUM_LOCKS_IN_BLOCK=1\n",
            "   KMP_PLAIN_BARRIER='2,2'\n",
            "   KMP_PLAIN_BARRIER_PATTERN='hyper,hyper'\n",
            "   KMP_REDUCTION_BARRIER='1,1'\n",
            "   KMP_REDUCTION_BARRIER_PATTERN='hyper,hyper'\n",
            "   KMP_SCHEDULE='static,balanced;guided,iterative'\n",
            "   KMP_SETTINGS=true\n",
            "   KMP_SPIN_BACKOFF_PARAMS='4096,100'\n",
            "   KMP_STACKOFFSET=64\n",
            "   KMP_STACKPAD=0\n",
            "   KMP_STACKSIZE=8M\n",
            "   KMP_STORAGE_MAP=false\n",
            "   KMP_TASKING=2\n",
            "   KMP_TASKLOOP_MIN_TASKS=0\n",
            "   KMP_TASK_STEALING_CONSTRAINT=1\n",
            "   KMP_TEAMS_THREAD_LIMIT=4\n",
            "   KMP_TOPOLOGY_METHOD=all\n",
            "   KMP_USE_YIELD=1\n",
            "   KMP_VERSION=false\n",
            "   KMP_WARNINGS=false\n",
            "   OMP_AFFINITY_FORMAT='OMP: pid %P tid %i thread %n bound to OS proc set {%A}'\n",
            "   OMP_ALLOCATOR=omp_default_mem_alloc\n",
            "   OMP_CANCELLATION=false\n",
            "   OMP_DEFAULT_DEVICE=0\n",
            "   OMP_DISPLAY_AFFINITY=false\n",
            "   OMP_DISPLAY_ENV=false\n",
            "   OMP_DYNAMIC=false\n",
            "   OMP_MAX_ACTIVE_LEVELS=1\n",
            "   OMP_MAX_TASK_PRIORITY=0\n",
            "   OMP_NESTED: deprecated; max-active-levels-var=1\n",
            "   OMP_NUM_THREADS: value is not defined\n",
            "   OMP_PLACES: value is not defined\n",
            "   OMP_PROC_BIND='intel'\n",
            "   OMP_SCHEDULE='static'\n",
            "   OMP_STACKSIZE=8M\n",
            "   OMP_TARGET_OFFLOAD=DEFAULT\n",
            "   OMP_THREAD_LIMIT=2147483647\n",
            "   OMP_WAIT_POLICY=PASSIVE\n",
            "   KMP_AFFINITY='verbose,warnings,respect,granularity=fine,compact,1,0'\n",
            "\n",
            "2022-01-06 01:47:05.528514: I tensorflow/core/common_runtime/process_util.cc:146] Creating new thread pool with default inter op setting: 2. Tune using inter_op_parallelism_threads for best performance.\n"
          ]
        },
        {
          "name": "stdout",
          "output_type": "stream",
          "text": [
            "Model: \"sequential\"\n",
            "_________________________________________________________________\n",
            "Layer (type)                 Output Shape              Param #   \n",
            "=================================================================\n",
            "Embedding (Embedding)        (None, None, 32)          726464    \n",
            "_________________________________________________________________\n",
            "lstm (LSTM)                  (None, 64)                24832     \n",
            "_________________________________________________________________\n",
            "dropout (Dropout)            (None, 64)                0         \n",
            "_________________________________________________________________\n",
            "dense (Dense)                (None, 64)                4160      \n",
            "_________________________________________________________________\n",
            "dense_1 (Dense)              (None, 1)                 65        \n",
            "=================================================================\n",
            "Total params: 755,521\n",
            "Trainable params: 755,521\n",
            "Non-trainable params: 0\n",
            "_________________________________________________________________\n"
          ]
        }
      ],
      "source": [
        "#create the model\n",
        "model = Sequential()\n",
        "model.add(Embedding(input_dim = vocab_size+2, output_dim = 32, name='Embedding'))\n",
        "model.add(LSTM(64)) \n",
        "model.add(Dropout(0.5))\n",
        "model.add(Dense(64, activation = 'relu'))\n",
        "model.add(Dense(1, activation='sigmoid'))\n",
        "model.compile(optimizer='adam', loss=\"binary_crossentropy\", metrics=[\"accuracy\"])\n",
        "model.summary()"
      ]
    },
    {
      "cell_type": "code",
      "execution_count": null,
      "id": "30af3c9e",
      "metadata": {
        "execution": {
          "iopub.execute_input": "2022-01-06T01:47:05.999277Z",
          "iopub.status.busy": "2022-01-06T01:47:05.998528Z",
          "iopub.status.idle": "2022-01-06T01:47:55.160644Z",
          "shell.execute_reply": "2022-01-06T01:47:55.159985Z",
          "shell.execute_reply.started": "2022-01-06T01:30:23.332420Z"
        },
        "papermill": {
          "duration": 49.194524,
          "end_time": "2022-01-06T01:47:55.160801",
          "exception": false,
          "start_time": "2022-01-06T01:47:05.966277",
          "status": "completed"
        },
        "tags": [],
        "id": "30af3c9e",
        "outputId": "4c02712e-7949-4676-9886-09ba6abbf3fd"
      },
      "outputs": [
        {
          "name": "stdout",
          "output_type": "stream",
          "text": [
            "Epoch 1/10\n"
          ]
        },
        {
          "name": "stderr",
          "output_type": "stream",
          "text": [
            "2022-01-06 01:47:06.053583: I tensorflow/compiler/mlir/mlir_graph_optimization_pass.cc:185] None of the MLIR Optimization Passes are enabled (registered 2)\n"
          ]
        },
        {
          "name": "stdout",
          "output_type": "stream",
          "text": [
            "119/119 [==============================] - 7s 40ms/step - loss: 0.5811 - accuracy: 0.6917\n",
            "Epoch 2/10\n",
            "119/119 [==============================] - 5s 41ms/step - loss: 0.3157 - accuracy: 0.8748\n",
            "Epoch 3/10\n",
            "119/119 [==============================] - 4s 38ms/step - loss: 0.1637 - accuracy: 0.9419\n",
            "Epoch 4/10\n",
            "119/119 [==============================] - 4s 38ms/step - loss: 0.0888 - accuracy: 0.9668\n",
            "Epoch 5/10\n",
            "119/119 [==============================] - 5s 40ms/step - loss: 0.0505 - accuracy: 0.9837\n",
            "Epoch 6/10\n",
            "119/119 [==============================] - 5s 38ms/step - loss: 0.0353 - accuracy: 0.9901\n",
            "Epoch 7/10\n",
            "119/119 [==============================] - 4s 38ms/step - loss: 0.0305 - accuracy: 0.9917\n",
            "Epoch 8/10\n",
            "119/119 [==============================] - 4s 37ms/step - loss: 0.0300 - accuracy: 0.9921\n",
            "Epoch 9/10\n",
            "119/119 [==============================] - 5s 42ms/step - loss: 0.0260 - accuracy: 0.9926\n",
            "Epoch 10/10\n",
            "119/119 [==============================] - 4s 38ms/step - loss: 0.0225 - accuracy: 0.9934\n"
          ]
        }
      ],
      "source": [
        "history = model.fit(X_train, y_train, shuffle=True, epochs=10, batch_size=64)"
      ]
    },
    {
      "cell_type": "code",
      "execution_count": null,
      "id": "3882f42c",
      "metadata": {
        "execution": {
          "iopub.execute_input": "2022-01-06T01:47:55.611696Z",
          "iopub.status.busy": "2022-01-06T01:47:55.610957Z",
          "iopub.status.idle": "2022-01-06T01:47:58.317200Z",
          "shell.execute_reply": "2022-01-06T01:47:58.316568Z",
          "shell.execute_reply.started": "2022-01-06T01:31:00.017590Z"
        },
        "papermill": {
          "duration": 2.934207,
          "end_time": "2022-01-06T01:47:58.317354",
          "exception": false,
          "start_time": "2022-01-06T01:47:55.383147",
          "status": "completed"
        },
        "tags": [],
        "id": "3882f42c",
        "outputId": "06b86545-0d4d-431b-b038-cf7a30afecd9"
      },
      "outputs": [
        {
          "name": "stdout",
          "output_type": "stream",
          "text": [
            "238/238 [==============================] - 3s 9ms/step - loss: 0.0151 - accuracy: 0.9961\n"
          ]
        }
      ],
      "source": [
        "train_score = model.evaluate(X_train, y_train)"
      ]
    },
    {
      "cell_type": "code",
      "execution_count": null,
      "id": "fae07631",
      "metadata": {
        "execution": {
          "iopub.execute_input": "2022-01-06T01:47:59.263359Z",
          "iopub.status.busy": "2022-01-06T01:47:59.262479Z",
          "iopub.status.idle": "2022-01-06T01:48:00.526334Z",
          "shell.execute_reply": "2022-01-06T01:48:00.525640Z",
          "shell.execute_reply.started": "2022-01-06T01:36:30.921447Z"
        },
        "papermill": {
          "duration": 1.503621,
          "end_time": "2022-01-06T01:48:00.526482",
          "exception": false,
          "start_time": "2022-01-06T01:47:59.022861",
          "status": "completed"
        },
        "tags": [],
        "id": "fae07631"
      },
      "outputs": [],
      "source": [
        "preds = np.where(model.predict(X_test)>0.5,1.0,0.0).flatten().astype('int32')"
      ]
    },
    {
      "cell_type": "code",
      "execution_count": null,
      "id": "5771dc71",
      "metadata": {
        "execution": {
          "iopub.execute_input": "2022-01-06T01:48:01.002276Z",
          "iopub.status.busy": "2022-01-06T01:48:01.001250Z",
          "iopub.status.idle": "2022-01-06T01:48:01.011958Z",
          "shell.execute_reply": "2022-01-06T01:48:01.012491Z",
          "shell.execute_reply.started": "2022-01-06T01:40:48.516893Z"
        },
        "papermill": {
          "duration": 0.250043,
          "end_time": "2022-01-06T01:48:01.012674",
          "exception": false,
          "start_time": "2022-01-06T01:48:00.762631",
          "status": "completed"
        },
        "tags": [],
        "id": "5771dc71",
        "outputId": "708fd3fe-e8c3-4b4c-93b9-a2a3a89370ca"
      },
      "outputs": [
        {
          "data": {
            "text/html": [
              "<div>\n",
              "<style scoped>\n",
              "    .dataframe tbody tr th:only-of-type {\n",
              "        vertical-align: middle;\n",
              "    }\n",
              "\n",
              "    .dataframe tbody tr th {\n",
              "        vertical-align: top;\n",
              "    }\n",
              "\n",
              "    .dataframe thead th {\n",
              "        text-align: right;\n",
              "    }\n",
              "</style>\n",
              "<table border=\"1\" class=\"dataframe\">\n",
              "  <thead>\n",
              "    <tr style=\"text-align: right;\">\n",
              "      <th></th>\n",
              "      <th>text</th>\n",
              "      <th>target</th>\n",
              "    </tr>\n",
              "  </thead>\n",
              "  <tbody>\n",
              "    <tr>\n",
              "      <th>0</th>\n",
              "      <td>Just happened a terrible car crash</td>\n",
              "      <td>1</td>\n",
              "    </tr>\n",
              "    <tr>\n",
              "      <th>1</th>\n",
              "      <td>Heard about #earthquake is different cities, stay safe everyone.</td>\n",
              "      <td>0</td>\n",
              "    </tr>\n",
              "    <tr>\n",
              "      <th>2</th>\n",
              "      <td>there is a forest fire at spot pond, geese are fleeing across the street, I cannot save them all</td>\n",
              "      <td>1</td>\n",
              "    </tr>\n",
              "    <tr>\n",
              "      <th>3</th>\n",
              "      <td>Apocalypse lighting. #Spokane #wildfires</td>\n",
              "      <td>1</td>\n",
              "    </tr>\n",
              "    <tr>\n",
              "      <th>4</th>\n",
              "      <td>Typhoon Soudelor kills 28 in China and Taiwan</td>\n",
              "      <td>1</td>\n",
              "    </tr>\n",
              "  </tbody>\n",
              "</table>\n",
              "</div>"
            ],
            "text/plain": [
              "                                                                                               text  \\\n",
              "0                                                                Just happened a terrible car crash   \n",
              "1                                  Heard about #earthquake is different cities, stay safe everyone.   \n",
              "2  there is a forest fire at spot pond, geese are fleeing across the street, I cannot save them all   \n",
              "3                                                          Apocalypse lighting. #Spokane #wildfires   \n",
              "4                                                     Typhoon Soudelor kills 28 in China and Taiwan   \n",
              "\n",
              "   target  \n",
              "0       1  \n",
              "1       0  \n",
              "2       1  \n",
              "3       1  \n",
              "4       1  "
            ]
          },
          "execution_count": 23,
          "metadata": {},
          "output_type": "execute_result"
        }
      ],
      "source": [
        "results = {'text':twitts_test, 'target':preds}\n",
        "df_results = pd.DataFrame(results)\n",
        "df_results.head()"
      ]
    },
    {
      "cell_type": "code",
      "execution_count": null,
      "id": "434cd028",
      "metadata": {
        "execution": {
          "iopub.execute_input": "2022-01-06T01:48:01.965668Z",
          "iopub.status.busy": "2022-01-06T01:48:01.964672Z",
          "iopub.status.idle": "2022-01-06T01:48:01.997617Z",
          "shell.execute_reply": "2022-01-06T01:48:01.998175Z"
        },
        "papermill": {
          "duration": 0.272909,
          "end_time": "2022-01-06T01:48:01.998352",
          "exception": false,
          "start_time": "2022-01-06T01:48:01.725443",
          "status": "completed"
        },
        "tags": [],
        "id": "434cd028"
      },
      "outputs": [],
      "source": [
        "submission = pd.merge(df_test, df_results, on='text').drop_duplicates()\n",
        "submission.drop(['text'],axis=1).to_csv('submission.csv', index=False)"
      ]
    }
  ],
  "metadata": {
    "kernelspec": {
      "display_name": "Python 3",
      "language": "python",
      "name": "python3"
    },
    "language_info": {
      "codemirror_mode": {
        "name": "ipython",
        "version": 3
      },
      "file_extension": ".py",
      "mimetype": "text/x-python",
      "name": "python",
      "nbconvert_exporter": "python",
      "pygments_lexer": "ipython3",
      "version": "3.7.12"
    },
    "papermill": {
      "default_parameters": {},
      "duration": 78.724282,
      "end_time": "2022-01-06T01:48:05.623562",
      "environment_variables": {},
      "exception": null,
      "input_path": "__notebook__.ipynb",
      "output_path": "__notebook__.ipynb",
      "parameters": {},
      "start_time": "2022-01-06T01:46:46.899280",
      "version": "2.3.3"
    },
    "colab": {
      "name": "twitter-lstm.ipynb",
      "provenance": []
    }
  },
  "nbformat": 4,
  "nbformat_minor": 5
}